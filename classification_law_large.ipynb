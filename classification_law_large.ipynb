{
 "cells": [
  {
   "cell_type": "code",
   "execution_count": 28,
   "id": "4af1d10b-fdfa-498d-88b2-0aa975772e8c",
   "metadata": {},
   "outputs": [],
   "source": [
    "import numpy as np \n",
    "import pandas as pd \n",
    "import json\n",
    "from transformers import * \n",
    "import os\n",
    "from tqdm.auto import tqdm \n",
    "import torch \n",
    "import torch.nn as nn \n",
    "import torch.nn.functional as F \n",
    "from torch.utils.data import Dataset, TensorDataset, DataLoader, RandomSampler, SequentialSampler \n",
    "import pickle \n",
    "import time \n",
    "import seaborn as sns\n",
    "from sklearn.preprocessing import LabelEncoder\n",
    "from sklearn.metrics import f1_score"
   ]
  },
  {
   "cell_type": "code",
   "execution_count": 2,
   "id": "877c50b9-ae6d-4dc3-8ba5-f9926441ed32",
   "metadata": {},
   "outputs": [],
   "source": [
    "with open(\"qa_json(full).json\") as f: \n",
    "    d = json.load(f) "
   ]
  },
  {
   "cell_type": "code",
   "execution_count": 3,
   "id": "793b6fc5-5798-43b8-869f-d9784eb45727",
   "metadata": {},
   "outputs": [
    {
     "data": {
      "application/vnd.jupyter.widget-view+json": {
       "model_id": "67b10df9bfef4faeb0140c78bb8556bc",
       "version_major": 2,
       "version_minor": 0
      },
      "text/plain": [
       "  0%|          | 0/6786 [00:00<?, ?it/s]"
      ]
     },
     "metadata": {},
     "output_type": "display_data"
    }
   ],
   "source": [
    "queries, passages, answers = [], [], [] \n",
    "\n",
    "for i in tqdm(range(len(d)), position=0, leave=True): \n",
    "    query = d[i][\"query\"] \n",
    "    passage = d[i][\"passages\"]\n",
    "    answer = d[i][\"answer\"] \n",
    "    queries.append(query) \n",
    "    passages.append(passage[0])  \n",
    "    answers.append(answer) "
   ]
  },
  {
   "cell_type": "code",
   "execution_count": 4,
   "id": "ba2be3a1-98b2-4d21-92fe-18f6b1723cff",
   "metadata": {},
   "outputs": [
    {
     "data": {
      "text/html": [
       "<div>\n",
       "<style scoped>\n",
       "    .dataframe tbody tr th:only-of-type {\n",
       "        vertical-align: middle;\n",
       "    }\n",
       "\n",
       "    .dataframe tbody tr th {\n",
       "        vertical-align: top;\n",
       "    }\n",
       "\n",
       "    .dataframe thead th {\n",
       "        text-align: right;\n",
       "    }\n",
       "</style>\n",
       "<table border=\"1\" class=\"dataframe\">\n",
       "  <thead>\n",
       "    <tr style=\"text-align: right;\">\n",
       "      <th></th>\n",
       "      <th>queries</th>\n",
       "      <th>passages</th>\n",
       "      <th>answers</th>\n",
       "    </tr>\n",
       "  </thead>\n",
       "  <tbody>\n",
       "    <tr>\n",
       "      <th>0</th>\n",
       "      <td>설립준비중의 재단법인에 대한 재산의 출연</td>\n",
       "      <td>재단법인의 설립준비중 제3자가 그 설립자에 대하여 장차 설립될 동 법인에 설립을 조...</td>\n",
       "      <td></td>\n",
       "    </tr>\n",
       "    <tr>\n",
       "      <th>1</th>\n",
       "      <td>수임인이 위임사무를 처리함에 있어 받은 물건으로 위임인에게 인도한 목적물은 그것이 ...</td>\n",
       "      <td>집행불능시의 대상청구속에는 예비적으로 이행불능시의 전보배상청구도 포함된 것으로 보고...</td>\n",
       "      <td></td>\n",
       "    </tr>\n",
       "    <tr>\n",
       "      <th>2</th>\n",
       "      <td>무권대리인의 상대방이 갖는 계약의 이행 또는 손해배상청구권의 소멸시효의 기산점</td>\n",
       "      <td>타인의 대리인으로 계약을 한 자가 그 대리권을 증명하지 못하고 또 본인의 추인을 얻...</td>\n",
       "      <td></td>\n",
       "    </tr>\n",
       "    <tr>\n",
       "      <th>3</th>\n",
       "      <td>사실혼관계에 있는 당사자의 일방이 모르는 사이에 혼인 신고가 이루어진후 쌍방 당사자...</td>\n",
       "      <td>본법 제139조는 재산법에 관한 총칙규정이고 신분법에 관하여는 그대로 통   용될 ...</td>\n",
       "      <td></td>\n",
       "    </tr>\n",
       "    <tr>\n",
       "      <th>4</th>\n",
       "      <td>남편 소유의 부동산 매각과, 아내의 일상 가사 대리권의 한계</td>\n",
       "      <td>부부간의 일상가사대리권은 그 동거생활을 추지하기 위하여 각각 필요한 범위내의 법률행...</td>\n",
       "      <td></td>\n",
       "    </tr>\n",
       "  </tbody>\n",
       "</table>\n",
       "</div>"
      ],
      "text/plain": [
       "                                             queries  \\\n",
       "0                             설립준비중의 재단법인에 대한 재산의 출연   \n",
       "1  수임인이 위임사무를 처리함에 있어 받은 물건으로 위임인에게 인도한 목적물은 그것이 ...   \n",
       "2        무권대리인의 상대방이 갖는 계약의 이행 또는 손해배상청구권의 소멸시효의 기산점   \n",
       "3  사실혼관계에 있는 당사자의 일방이 모르는 사이에 혼인 신고가 이루어진후 쌍방 당사자...   \n",
       "4                  남편 소유의 부동산 매각과, 아내의 일상 가사 대리권의 한계   \n",
       "\n",
       "                                            passages answers  \n",
       "0  재단법인의 설립준비중 제3자가 그 설립자에 대하여 장차 설립될 동 법인에 설립을 조...          \n",
       "1  집행불능시의 대상청구속에는 예비적으로 이행불능시의 전보배상청구도 포함된 것으로 보고...          \n",
       "2  타인의 대리인으로 계약을 한 자가 그 대리권을 증명하지 못하고 또 본인의 추인을 얻...          \n",
       "3  본법 제139조는 재산법에 관한 총칙규정이고 신분법에 관하여는 그대로 통   용될 ...          \n",
       "4  부부간의 일상가사대리권은 그 동거생활을 추지하기 위하여 각각 필요한 범위내의 법률행...          "
      ]
     },
     "execution_count": 4,
     "metadata": {},
     "output_type": "execute_result"
    }
   ],
   "source": [
    "all_data = pd.DataFrame(list(zip(queries, passages, answers)), columns=[\"queries\", \"passages\", \"answers\"])\n",
    "\n",
    "all_data.head()  "
   ]
  },
  {
   "cell_type": "code",
   "execution_count": 5,
   "id": "abfea100-5d3a-413d-acd2-05ad2b85c99e",
   "metadata": {},
   "outputs": [
    {
     "data": {
      "text/html": [
       "<div>\n",
       "<style scoped>\n",
       "    .dataframe tbody tr th:only-of-type {\n",
       "        vertical-align: middle;\n",
       "    }\n",
       "\n",
       "    .dataframe tbody tr th {\n",
       "        vertical-align: top;\n",
       "    }\n",
       "\n",
       "    .dataframe thead th {\n",
       "        text-align: right;\n",
       "    }\n",
       "</style>\n",
       "<table border=\"1\" class=\"dataframe\">\n",
       "  <thead>\n",
       "    <tr style=\"text-align: right;\">\n",
       "      <th></th>\n",
       "      <th>queries</th>\n",
       "      <th>passages</th>\n",
       "      <th>answers</th>\n",
       "    </tr>\n",
       "  </thead>\n",
       "  <tbody>\n",
       "    <tr>\n",
       "      <th>35</th>\n",
       "      <td>발행일의 기재가 1978.2.30인 약속어음의 유효 여부</td>\n",
       "      <td>발행일의 기재가</td>\n",
       "      <td>적극</td>\n",
       "    </tr>\n",
       "    <tr>\n",
       "      <th>36</th>\n",
       "      <td>처자있는 남성과 동거생활을 하는 여성에 대하여 그 남성의 자녀들의 위자료청구의 가부</td>\n",
       "      <td>30인 약속어음은 같은 해</td>\n",
       "      <td>소극</td>\n",
       "    </tr>\n",
       "    <tr>\n",
       "      <th>39</th>\n",
       "      <td>합의해제에 따른 매도인의 원상회복 청구권이 소멸시효의 대상이 되는 여부</td>\n",
       "      <td>매매계약이 합의해제된 경우에도 매수인에게 이전되었던 소유권은 당연히 매도인에게 복귀...</td>\n",
       "      <td>소극</td>\n",
       "    </tr>\n",
       "  </tbody>\n",
       "</table>\n",
       "</div>"
      ],
      "text/plain": [
       "                                           queries  \\\n",
       "35                 발행일의 기재가 1978.2.30인 약속어음의 유효 여부   \n",
       "36  처자있는 남성과 동거생활을 하는 여성에 대하여 그 남성의 자녀들의 위자료청구의 가부   \n",
       "39         합의해제에 따른 매도인의 원상회복 청구권이 소멸시효의 대상이 되는 여부   \n",
       "\n",
       "                                             passages answers  \n",
       "35                                           발행일의 기재가      적극  \n",
       "36                                     30인 약속어음은 같은 해      소극  \n",
       "39  매매계약이 합의해제된 경우에도 매수인에게 이전되었던 소유권은 당연히 매도인에게 복귀...      소극  "
      ]
     },
     "execution_count": 5,
     "metadata": {},
     "output_type": "execute_result"
    }
   ],
   "source": [
    "all_data = all_data[all_data[\"answers\"]!=\"\"]\n",
    "all_data.head(3)"
   ]
  },
  {
   "cell_type": "code",
   "execution_count": 6,
   "id": "934eb9ed-f9f2-4be9-bd8f-5c3d1466f3aa",
   "metadata": {},
   "outputs": [],
   "source": [
    "le = LabelEncoder() \n",
    "\n",
    "all_data[\"answers\"] = le.fit_transform(all_data[\"answers\"])"
   ]
  },
  {
   "cell_type": "code",
   "execution_count": 7,
   "id": "3c1007a0-5219-46ff-b6e1-3b85e4fab457",
   "metadata": {},
   "outputs": [
    {
     "data": {
      "text/html": [
       "<div>\n",
       "<style scoped>\n",
       "    .dataframe tbody tr th:only-of-type {\n",
       "        vertical-align: middle;\n",
       "    }\n",
       "\n",
       "    .dataframe tbody tr th {\n",
       "        vertical-align: top;\n",
       "    }\n",
       "\n",
       "    .dataframe thead th {\n",
       "        text-align: right;\n",
       "    }\n",
       "</style>\n",
       "<table border=\"1\" class=\"dataframe\">\n",
       "  <thead>\n",
       "    <tr style=\"text-align: right;\">\n",
       "      <th></th>\n",
       "      <th>queries</th>\n",
       "      <th>passages</th>\n",
       "      <th>answers</th>\n",
       "    </tr>\n",
       "  </thead>\n",
       "  <tbody>\n",
       "    <tr>\n",
       "      <th>35</th>\n",
       "      <td>발행일의 기재가 1978.2.30인 약속어음의 유효 여부</td>\n",
       "      <td>발행일의 기재가</td>\n",
       "      <td>1</td>\n",
       "    </tr>\n",
       "    <tr>\n",
       "      <th>36</th>\n",
       "      <td>처자있는 남성과 동거생활을 하는 여성에 대하여 그 남성의 자녀들의 위자료청구의 가부</td>\n",
       "      <td>30인 약속어음은 같은 해</td>\n",
       "      <td>0</td>\n",
       "    </tr>\n",
       "    <tr>\n",
       "      <th>39</th>\n",
       "      <td>합의해제에 따른 매도인의 원상회복 청구권이 소멸시효의 대상이 되는 여부</td>\n",
       "      <td>매매계약이 합의해제된 경우에도 매수인에게 이전되었던 소유권은 당연히 매도인에게 복귀...</td>\n",
       "      <td>0</td>\n",
       "    </tr>\n",
       "    <tr>\n",
       "      <th>40</th>\n",
       "      <td>인지심판확정으로 공동상속인이 된 자가 다른 공동상속인에 대하여 한 상속재산처분대금의...</td>\n",
       "      <td>재산상속에 관하여 진정한 상속인임을 전제로 그 상속으로 인한 소유권 또는 지분권등 ...</td>\n",
       "      <td>1</td>\n",
       "    </tr>\n",
       "    <tr>\n",
       "      <th>41</th>\n",
       "      <td>개개의 재산에 대한 구체적 권리행사로서의 상속회복청구의 소와 일반적인 상속인의 지위...</td>\n",
       "      <td>상속회복청구의 소로 인정되는 이상 그것이 개개의 재산에 대한 구체적인 권리를 행사하...</td>\n",
       "      <td>0</td>\n",
       "    </tr>\n",
       "    <tr>\n",
       "      <th>...</th>\n",
       "      <td>...</td>\n",
       "      <td>...</td>\n",
       "      <td>...</td>\n",
       "    </tr>\n",
       "    <tr>\n",
       "      <th>6779</th>\n",
       "      <td>경범죄 처벌법상 범칙금제도의 의의 / 경찰서장이 범칙행위에 대하여 통고처분을 하였는...</td>\n",
       "      <td>경범죄 처벌법은 제3장에서 ‘경범죄 처벌의 특례’로서 범칙행위에 대한 통고처분(제7...</td>\n",
       "      <td>1</td>\n",
       "    </tr>\n",
       "    <tr>\n",
       "      <th>6780</th>\n",
       "      <td>피고인과 공범관계가 있는 다른 피의자에 대하여 검사 이외의 수사기관이 작성한 피의자...</td>\n",
       "      <td>형사소송법 제312조 제3항은 검사 이외의 수사기관이 작성한 해당 피고인에 대한 피...</td>\n",
       "      <td>1</td>\n",
       "    </tr>\n",
       "    <tr>\n",
       "      <th>6781</th>\n",
       "      <td>검사와 피고인 양쪽이 상소를 제기하였는데, 어느 일방의 상소는 이유 없으나 다른 일...</td>\n",
       "      <td>검사와 피고인 양쪽이 상소를 제기한 경우, 어느 일방의 상소는 이유 없으나 다른 일...</td>\n",
       "      <td>0</td>\n",
       "    </tr>\n",
       "    <tr>\n",
       "      <th>6784</th>\n",
       "      <td>증인이 정당한 사유 없이 법정에 출석하지 아니하거나 소환에 응하지 아니하는 경우 또...</td>\n",
       "      <td>모든 국민은 법정에 출석하여 증언할 의무를 부담한다. 법원은 소환장을 송달받은 증인...</td>\n",
       "      <td>1</td>\n",
       "    </tr>\n",
       "    <tr>\n",
       "      <th>6785</th>\n",
       "      <td>형사소송법이 증인의 법정 출석을 강제할 수 있는 권한을 법원에 부여한 취지 / 다른...</td>\n",
       "      <td>형사소송법이 증인의 법정 출석을 강제할 수 있는 권한을 법원에 부여한 취지는, 다른...</td>\n",
       "      <td>1</td>\n",
       "    </tr>\n",
       "  </tbody>\n",
       "</table>\n",
       "<p>2545 rows × 3 columns</p>\n",
       "</div>"
      ],
      "text/plain": [
       "                                                queries  \\\n",
       "35                      발행일의 기재가 1978.2.30인 약속어음의 유효 여부   \n",
       "36       처자있는 남성과 동거생활을 하는 여성에 대하여 그 남성의 자녀들의 위자료청구의 가부   \n",
       "39              합의해제에 따른 매도인의 원상회복 청구권이 소멸시효의 대상이 되는 여부   \n",
       "40    인지심판확정으로 공동상속인이 된 자가 다른 공동상속인에 대하여 한 상속재산처분대금의...   \n",
       "41    개개의 재산에 대한 구체적 권리행사로서의 상속회복청구의 소와 일반적인 상속인의 지위...   \n",
       "...                                                 ...   \n",
       "6779  경범죄 처벌법상 범칙금제도의 의의 / 경찰서장이 범칙행위에 대하여 통고처분을 하였는...   \n",
       "6780  피고인과 공범관계가 있는 다른 피의자에 대하여 검사 이외의 수사기관이 작성한 피의자...   \n",
       "6781  검사와 피고인 양쪽이 상소를 제기하였는데, 어느 일방의 상소는 이유 없으나 다른 일...   \n",
       "6784  증인이 정당한 사유 없이 법정에 출석하지 아니하거나 소환에 응하지 아니하는 경우 또...   \n",
       "6785  형사소송법이 증인의 법정 출석을 강제할 수 있는 권한을 법원에 부여한 취지 / 다른...   \n",
       "\n",
       "                                               passages  answers  \n",
       "35                                             발행일의 기재가        1  \n",
       "36                                       30인 약속어음은 같은 해        0  \n",
       "39    매매계약이 합의해제된 경우에도 매수인에게 이전되었던 소유권은 당연히 매도인에게 복귀...        0  \n",
       "40    재산상속에 관하여 진정한 상속인임을 전제로 그 상속으로 인한 소유권 또는 지분권등 ...        1  \n",
       "41    상속회복청구의 소로 인정되는 이상 그것이 개개의 재산에 대한 구체적인 권리를 행사하...        0  \n",
       "...                                                 ...      ...  \n",
       "6779  경범죄 처벌법은 제3장에서 ‘경범죄 처벌의 특례’로서 범칙행위에 대한 통고처분(제7...        1  \n",
       "6780  형사소송법 제312조 제3항은 검사 이외의 수사기관이 작성한 해당 피고인에 대한 피...        1  \n",
       "6781  검사와 피고인 양쪽이 상소를 제기한 경우, 어느 일방의 상소는 이유 없으나 다른 일...        0  \n",
       "6784  모든 국민은 법정에 출석하여 증언할 의무를 부담한다. 법원은 소환장을 송달받은 증인...        1  \n",
       "6785  형사소송법이 증인의 법정 출석을 강제할 수 있는 권한을 법원에 부여한 취지는, 다른...        1  \n",
       "\n",
       "[2545 rows x 3 columns]"
      ]
     },
     "execution_count": 7,
     "metadata": {},
     "output_type": "execute_result"
    }
   ],
   "source": [
    "all_data"
   ]
  },
  {
   "cell_type": "code",
   "execution_count": 8,
   "id": "6e55f27a-0fd2-469f-a286-2dc340064a7b",
   "metadata": {},
   "outputs": [
    {
     "data": {
      "text/plain": [
       "<AxesSubplot:xlabel='answers', ylabel='count'>"
      ]
     },
     "execution_count": 8,
     "metadata": {},
     "output_type": "execute_result"
    },
    {
     "data": {
      "image/png": "[encoded data removed]",
      "text/plain": [
       "<Figure size 432x288 with 1 Axes>"
      ]
     },
     "metadata": {
      "needs_background": "light"
     },
     "output_type": "display_data"
    }
   ],
   "source": [
    "sns.countplot(all_data, x=\"answers\")"
   ]
  },
  {
   "cell_type": "code",
   "execution_count": 9,
   "id": "199f92a5-abdc-440a-8c79-162dc2549fdb",
   "metadata": {},
   "outputs": [],
   "source": [
    "class MeanPooling(nn.Module):\n",
    "    def __init__(self):\n",
    "        super(MeanPooling, self).__init__()\n",
    "    def forward(self, last_hidden_state, attention_masks):\n",
    "        input_mask_expanded = attention_masks.unsqueeze(-1).expand(last_hidden_state.size()).float()\n",
    "        sum_embeddings = torch.sum(last_hidden_state * input_mask_expanded, 1)\n",
    "        sum_mask = input_mask_expanded.sum(1)\n",
    "        sum_mask = torch.clamp(sum_mask, min=1e-9)\n",
    "        mean_embeddings = sum_embeddings / sum_mask\n",
    "        return mean_embeddings\n",
    "\n",
    "class MultiSampleDropout(nn.Module):\n",
    "    def __init__(self, max_dropout_rate, num_samples, classifier):\n",
    "        super(MultiSampleDropout, self).__init__()\n",
    "        self.dropout = nn.Dropout\n",
    "        self.classifier = classifier\n",
    "        self.max_dropout_rate = max_dropout_rate\n",
    "        self.num_samples = num_samples\n",
    "    def forward(self, out):\n",
    "        return torch.mean(torch.stack([self.classifier(self.dropout(p=rate)(out)) for _, rate in enumerate(np.linspace(0, self.max_dropout_rate, self.num_samples))], dim=0), dim=0)\n",
    "    \n",
    "\n",
    "class NeuralCLF(nn.Module):\n",
    "    def __init__(self, plm=\"monologg/kobigbird-bert-base\", num_classes=2, max_dropout=0.2, num_dropout_samples=8):\n",
    "        super(NeuralCLF, self).__init__()\n",
    "        self.num_classes = num_classes \n",
    "        self.max_dropout = max_dropout\n",
    "        self.num_dropout_samples = num_dropout_samples \n",
    "        self.config = AutoConfig.from_pretrained(plm)\n",
    "        self.mean_pooler = MeanPooling()\n",
    "        self.lm = AutoModel.from_pretrained(plm, config=self.config) \n",
    "        self.fc = nn.Linear(self.config.hidden_size, self.num_classes) \n",
    "        self.multi_dropout = MultiSampleDropout(self.max_dropout, self.num_dropout_samples, self.fc)\n",
    "        \n",
    "    def _init_weights(self, module):\n",
    "        if isinstance(module, nn.Linear):\n",
    "            module.weight.data.normal_(mean=0.0, std=self.config.initializer_range)\n",
    "            if module.bias is not None:\n",
    "                module.bias.data.zero_()\n",
    "\n",
    "    def forward(self, input_ids, attn_masks):\n",
    "        x = self.lm(input_ids, attn_masks)[0] \n",
    "        x = self.mean_pooler(x, attn_masks) \n",
    "        x = self.multi_dropout(x)  \n",
    "        return x "
   ]
  },
  {
   "cell_type": "code",
   "execution_count": 10,
   "id": "cc13f1ba-477c-4797-ab6f-a4234e52ea11",
   "metadata": {},
   "outputs": [],
   "source": [
    "def flat_accuracy(preds, labels):\n",
    "    pred_flat = np.argmax(preds, axis=1).flatten() \n",
    "    labels_flat = labels.flatten() \n",
    "    return np.sum(pred_flat == labels_flat) / len(labels_flat) "
   ]
  },
  {
   "cell_type": "code",
   "execution_count": 11,
   "id": "22f00590-6faf-4474-9b62-a7ceb0b5be8f",
   "metadata": {},
   "outputs": [
    {
     "data": {
      "application/vnd.jupyter.widget-view+json": {
       "model_id": "e363df3229104e23ba84b65c1bf4e9e8",
       "version_major": 2,
       "version_minor": 0
      },
      "text/plain": [
       "Downloading (…)okenizer_config.json:   0%|          | 0.00/373 [00:00<?, ?B/s]"
      ]
     },
     "metadata": {},
     "output_type": "display_data"
    },
    {
     "data": {
      "application/vnd.jupyter.widget-view+json": {
       "model_id": "501db973ba3d45fa9c136619a2de9591",
       "version_major": 2,
       "version_minor": 0
      },
      "text/plain": [
       "Downloading (…)solve/main/vocab.txt:   0%|          | 0.00/241k [00:00<?, ?B/s]"
      ]
     },
     "metadata": {},
     "output_type": "display_data"
    },
    {
     "data": {
      "application/vnd.jupyter.widget-view+json": {
       "model_id": "67f1ac1bb1d24ebbb0e780e7b9771bed",
       "version_major": 2,
       "version_minor": 0
      },
      "text/plain": [
       "Downloading (…)/main/tokenizer.json:   0%|          | 0.00/492k [00:00<?, ?B/s]"
      ]
     },
     "metadata": {},
     "output_type": "display_data"
    },
    {
     "data": {
      "application/vnd.jupyter.widget-view+json": {
       "model_id": "cf8572be9e024677934939230c57fe7a",
       "version_major": 2,
       "version_minor": 0
      },
      "text/plain": [
       "Downloading (…)cial_tokens_map.json:   0%|          | 0.00/169 [00:00<?, ?B/s]"
      ]
     },
     "metadata": {},
     "output_type": "display_data"
    },
    {
     "name": "stderr",
     "output_type": "stream",
     "text": [
      "loading file vocab.txt from cache at /root/.cache/huggingface/hub/models--monologg--kobigbird-bert-base/snapshots/ceacda477e20abef2c929adfa4a07c6f811323be/vocab.txt\n",
      "loading file tokenizer.json from cache at /root/.cache/huggingface/hub/models--monologg--kobigbird-bert-base/snapshots/ceacda477e20abef2c929adfa4a07c6f811323be/tokenizer.json\n",
      "loading file added_tokens.json from cache at None\n",
      "loading file special_tokens_map.json from cache at /root/.cache/huggingface/hub/models--monologg--kobigbird-bert-base/snapshots/ceacda477e20abef2c929adfa4a07c6f811323be/special_tokens_map.json\n",
      "loading file tokenizer_config.json from cache at /root/.cache/huggingface/hub/models--monologg--kobigbird-bert-base/snapshots/ceacda477e20abef2c929adfa4a07c6f811323be/tokenizer_config.json\n"
     ]
    },
    {
     "data": {
      "application/vnd.jupyter.widget-view+json": {
       "model_id": "71421bf8e8dc4561987a123a31598b53",
       "version_major": 2,
       "version_minor": 0
      },
      "text/plain": [
       "  0%|          | 0/2545 [00:00<?, ?it/s]"
      ]
     },
     "metadata": {},
     "output_type": "display_data"
    },
    {
     "data": {
      "text/plain": [
       "(torch.Size([2545, 512]), torch.Size([2545, 512]), torch.Size([2545]))"
      ]
     },
     "execution_count": 11,
     "metadata": {},
     "output_type": "execute_result"
    }
   ],
   "source": [
    "queries = all_data[\"queries\"].values \n",
    "passages = all_data[\"passages\"].values\n",
    "labels = all_data[\"answers\"].values \n",
    "\n",
    "tokenizer = AutoTokenizer.from_pretrained(\"monologg/kobigbird-bert-base\") \n",
    "\n",
    "input_ids, attn_masks = [], [] \n",
    "for i in tqdm(range(len(queries)), position=0, leave=True): \n",
    "    encoded_inputs = tokenizer(str(queries[i]), str(passages[i]), max_length=512, truncation=True, padding=\"max_length\")\n",
    "    input_ids.append(encoded_inputs[\"input_ids\"]) \n",
    "    attn_masks.append(encoded_inputs[\"attention_mask\"])  \n",
    "    \n",
    "input_ids = torch.tensor(input_ids, dtype=int) \n",
    "attn_masks = torch.tensor(attn_masks, dtype=int) \n",
    "labels = torch.tensor(labels, dtype=int) \n",
    "\n",
    "input_ids.shape, attn_masks.shape, labels.shape"
   ]
  },
  {
   "cell_type": "code",
   "execution_count": 12,
   "id": "c2fe86c9-1101-47d7-b332-49ca41496fb2",
   "metadata": {},
   "outputs": [
    {
     "data": {
      "text/plain": [
       "(torch.Size([2036, 512]), torch.Size([254, 512]), torch.Size([255, 512]))"
      ]
     },
     "execution_count": 12,
     "metadata": {},
     "output_type": "execute_result"
    }
   ],
   "source": [
    "train_size = int(input_ids.shape[0] * 0.8)\n",
    "val_size = int(input_ids.shape[0] * 0.1) \n",
    "\n",
    "train_input_ids = input_ids[:train_size] \n",
    "train_attn_masks = attn_masks[:train_size] \n",
    "train_labels = labels[:train_size] \n",
    "\n",
    "val_input_ids = input_ids[train_size:train_size+val_size] \n",
    "val_attn_masks = attn_masks[train_size:train_size+val_size] \n",
    "val_labels = labels[train_size:train_size+val_size] \n",
    "\n",
    "test_input_ids = input_ids[train_size+val_size:] \n",
    "test_attn_masks = attn_masks[train_size+val_size:] \n",
    "test_labels = labels[train_size+val_size:] \n",
    "\n",
    "train_input_ids.shape, val_input_ids.shape, test_input_ids.shape"
   ]
  },
  {
   "cell_type": "code",
   "execution_count": 13,
   "id": "f972d21f-ba99-4555-bbb8-dbdf19d3295d",
   "metadata": {},
   "outputs": [],
   "source": [
    "batch_size = 32 \n",
    "\n",
    "train_data = TensorDataset(train_input_ids, train_attn_masks, train_labels)\n",
    "train_sampler = RandomSampler(train_data) \n",
    "train_dataloader = DataLoader(train_data, sampler=train_sampler, batch_size=batch_size)  \n",
    "\n",
    "val_data = TensorDataset(val_input_ids, val_attn_masks, val_labels) \n",
    "val_sampler = SequentialSampler(val_data) \n",
    "val_dataloader = DataLoader(val_data, sampler=val_sampler, batch_size=batch_size)  \n",
    "\n",
    "test_data = TensorDataset(test_input_ids, test_attn_masks, test_labels) \n",
    "test_sampler = SequentialSampler(test_data) \n",
    "test_dataloader = DataLoader(test_data, sampler=test_sampler, batch_size=batch_size) "
   ]
  },
  {
   "cell_type": "code",
   "execution_count": 14,
   "id": "243328fd-c037-424b-9264-ed9b97e62efa",
   "metadata": {},
   "outputs": [
    {
     "name": "stderr",
     "output_type": "stream",
     "text": [
      "loading configuration file config.json from cache at /root/.cache/huggingface/hub/models--monologg--kobigbird-bert-base/snapshots/ceacda477e20abef2c929adfa4a07c6f811323be/config.json\n",
      "Model config BigBirdConfig {\n",
      "  \"_name_or_path\": \"monologg/kobigbird-bert-base\",\n",
      "  \"architectures\": [\n",
      "    \"BigBirdForMaskedLM\"\n",
      "  ],\n",
      "  \"attention_probs_dropout_prob\": 0.1,\n",
      "  \"attention_type\": \"block_sparse\",\n",
      "  \"block_size\": 64,\n",
      "  \"bos_token_id\": 5,\n",
      "  \"classifier_dropout\": null,\n",
      "  \"eos_token_id\": 6,\n",
      "  \"gradient_checkpointing\": false,\n",
      "  \"hidden_act\": \"gelu_new\",\n",
      "  \"hidden_dropout_prob\": 0.1,\n",
      "  \"hidden_size\": 768,\n",
      "  \"initializer_range\": 0.02,\n",
      "  \"intermediate_size\": 3072,\n",
      "  \"layer_norm_eps\": 1e-12,\n",
      "  \"max_position_embeddings\": 4096,\n",
      "  \"model_type\": \"big_bird\",\n",
      "  \"num_attention_heads\": 12,\n",
      "  \"num_hidden_layers\": 12,\n",
      "  \"num_random_blocks\": 3,\n",
      "  \"pad_token_id\": 0,\n",
      "  \"position_embedding_type\": \"absolute\",\n",
      "  \"rescale_embeddings\": false,\n",
      "  \"sep_token_id\": 3,\n",
      "  \"tokenizer_class\": \"BertTokenizer\",\n",
      "  \"torch_dtype\": \"float32\",\n",
      "  \"transformers_version\": \"4.26.1\",\n",
      "  \"type_vocab_size\": 2,\n",
      "  \"use_bias\": true,\n",
      "  \"use_cache\": true,\n",
      "  \"vocab_size\": 32500\n",
      "}\n",
      "\n",
      "loading weights file pytorch_model.bin from cache at /root/.cache/huggingface/hub/models--monologg--kobigbird-bert-base/snapshots/ceacda477e20abef2c929adfa4a07c6f811323be/pytorch_model.bin\n",
      "Some weights of the model checkpoint at monologg/kobigbird-bert-base were not used when initializing BigBirdModel: ['cls.seq_relationship.bias', 'cls.predictions.transform.LayerNorm.bias', 'cls.predictions.transform.dense.weight', 'cls.predictions.bias', 'cls.predictions.decoder.bias', 'cls.predictions.decoder.weight', 'cls.seq_relationship.weight', 'cls.predictions.transform.dense.bias', 'cls.predictions.transform.LayerNorm.weight']\n",
      "- This IS expected if you are initializing BigBirdModel from the checkpoint of a model trained on another task or with another architecture (e.g. initializing a BertForSequenceClassification model from a BertForPreTraining model).\n",
      "- This IS NOT expected if you are initializing BigBirdModel from the checkpoint of a model that you expect to be exactly identical (initializing a BertForSequenceClassification model from a BertForSequenceClassification model).\n",
      "All the weights of BigBirdModel were initialized from the model checkpoint at monologg/kobigbird-bert-base.\n",
      "If your task is similar to the task the model of the checkpoint was trained on, you can already use BigBirdModel for predictions without further training.\n",
      "/opt/conda/lib/python3.8/site-packages/transformers/optimization.py:306: FutureWarning: This implementation of AdamW is deprecated and will be removed in a future version. Use the PyTorch implementation torch.optim.AdamW instead, or set `no_deprecation_warning=True` to disable this warning\n",
      "  warnings.warn(\n"
     ]
    },
    {
     "data": {
      "application/vnd.jupyter.widget-view+json": {
       "model_id": "f037f48a707e4ef3b3fb3ceea948ec1a",
       "version_major": 2,
       "version_minor": 0
      },
      "text/plain": [
       "Epochs:   0%|          | 0/10 [00:00<?, ?it/s]"
      ]
     },
     "metadata": {},
     "output_type": "display_data"
    },
    {
     "data": {
      "application/vnd.jupyter.widget-view+json": {
       "model_id": "7cadf53714cf4afc91a199bab88eb91d",
       "version_major": 2,
       "version_minor": 0
      },
      "text/plain": [
       "  0%|          | 0/64 [00:00<?, ?batch/s]"
      ]
     },
     "metadata": {},
     "output_type": "display_data"
    },
    {
     "name": "stderr",
     "output_type": "stream",
     "text": [
      "Attention type 'block_sparse' is not possible if sequence_length: 512 <= num global tokens: 2 * config.block_size + min. num sliding tokens: 3 * config.block_size + config.num_random_blocks * config.block_size + additional buffer: config.num_random_blocks * config.block_size = 704 with config.block_size = 64, config.num_random_blocks = 3. Changing attention type to 'original_full'...\n"
     ]
    },
    {
     "data": {
      "application/vnd.jupyter.widget-view+json": {
       "model_id": "80f767aeea1c4980ad4483952f2d2dc3",
       "version_major": 2,
       "version_minor": 0
      },
      "text/plain": [
       "  0%|          | 0/8 [00:00<?, ?it/s]"
      ]
     },
     "metadata": {},
     "output_type": "display_data"
    },
    {
     "name": "stdout",
     "output_type": "stream",
     "text": [
      "avg train loss:0.6424220115877688 | avg train accuracy:0.59736328125 | avg val loss:0.4839288331568241 | avg val accuracy:0.7684895833333334\n",
      "saving current best checkpoint!\n"
     ]
    },
    {
     "data": {
      "application/vnd.jupyter.widget-view+json": {
       "model_id": "d70ffc72636a47ec9e7775d118d19569",
       "version_major": 2,
       "version_minor": 0
      },
      "text/plain": [
       "  0%|          | 0/64 [00:00<?, ?batch/s]"
      ]
     },
     "metadata": {},
     "output_type": "display_data"
    },
    {
     "data": {
      "application/vnd.jupyter.widget-view+json": {
       "model_id": "8a046e98e739424e92e197e0d58befce",
       "version_major": 2,
       "version_minor": 0
      },
      "text/plain": [
       "  0%|          | 0/8 [00:00<?, ?it/s]"
      ]
     },
     "metadata": {},
     "output_type": "display_data"
    },
    {
     "name": "stdout",
     "output_type": "stream",
     "text": [
      "avg train loss:0.3909391809720546 | avg train accuracy:0.8353515625 | avg val loss:0.47721901535987854 | avg val accuracy:0.77265625\n",
      "saving current best checkpoint!\n"
     ]
    },
    {
     "data": {
      "application/vnd.jupyter.widget-view+json": {
       "model_id": "58055ddd80a74497be3725ab2c08c0b4",
       "version_major": 2,
       "version_minor": 0
      },
      "text/plain": [
       "  0%|          | 0/64 [00:00<?, ?batch/s]"
      ]
     },
     "metadata": {},
     "output_type": "display_data"
    },
    {
     "data": {
      "application/vnd.jupyter.widget-view+json": {
       "model_id": "c4628987a3d7445882e6bd0a606745bd",
       "version_major": 2,
       "version_minor": 0
      },
      "text/plain": [
       "  0%|          | 0/8 [00:00<?, ?it/s]"
      ]
     },
     "metadata": {},
     "output_type": "display_data"
    },
    {
     "name": "stdout",
     "output_type": "stream",
     "text": [
      "avg train loss:0.2516128330025822 | avg train accuracy:0.9044921875 | avg val loss:0.3940008254721761 | avg val accuracy:0.8158854166666667\n",
      "saving current best checkpoint!\n"
     ]
    },
    {
     "data": {
      "application/vnd.jupyter.widget-view+json": {
       "model_id": "31bdbb6a9f044659931888d9499c40d0",
       "version_major": 2,
       "version_minor": 0
      },
      "text/plain": [
       "  0%|          | 0/64 [00:00<?, ?batch/s]"
      ]
     },
     "metadata": {},
     "output_type": "display_data"
    },
    {
     "data": {
      "application/vnd.jupyter.widget-view+json": {
       "model_id": "d47fb6dde6ed4c2bbe279d8fd34ee9bf",
       "version_major": 2,
       "version_minor": 0
      },
      "text/plain": [
       "  0%|          | 0/8 [00:00<?, ?it/s]"
      ]
     },
     "metadata": {},
     "output_type": "display_data"
    },
    {
     "name": "stdout",
     "output_type": "stream",
     "text": [
      "avg train loss:0.19254817548790015 | avg train accuracy:0.92744140625 | avg val loss:0.4393469216302037 | avg val accuracy:0.84375\n"
     ]
    },
    {
     "data": {
      "application/vnd.jupyter.widget-view+json": {
       "model_id": "94b0da00d7734625867f6b23b2c08874",
       "version_major": 2,
       "version_minor": 0
      },
      "text/plain": [
       "  0%|          | 0/64 [00:00<?, ?batch/s]"
      ]
     },
     "metadata": {},
     "output_type": "display_data"
    },
    {
     "data": {
      "application/vnd.jupyter.widget-view+json": {
       "model_id": "b643ef790b054b3e8c237150af91f092",
       "version_major": 2,
       "version_minor": 0
      },
      "text/plain": [
       "  0%|          | 0/8 [00:00<?, ?it/s]"
      ]
     },
     "metadata": {},
     "output_type": "display_data"
    },
    {
     "name": "stdout",
     "output_type": "stream",
     "text": [
      "avg train loss:0.12942973086319398 | avg train accuracy:0.95703125 | avg val loss:0.7176562920212746 | avg val accuracy:0.8239583333333333\n"
     ]
    },
    {
     "data": {
      "application/vnd.jupyter.widget-view+json": {
       "model_id": "b6bde11f739944089252491ab217c87c",
       "version_major": 2,
       "version_minor": 0
      },
      "text/plain": [
       "  0%|          | 0/64 [00:00<?, ?batch/s]"
      ]
     },
     "metadata": {},
     "output_type": "display_data"
    },
    {
     "data": {
      "application/vnd.jupyter.widget-view+json": {
       "model_id": "4452a7a37fda4dbdb05896daa74f8372",
       "version_major": 2,
       "version_minor": 0
      },
      "text/plain": [
       "  0%|          | 0/8 [00:00<?, ?it/s]"
      ]
     },
     "metadata": {},
     "output_type": "display_data"
    },
    {
     "name": "stdout",
     "output_type": "stream",
     "text": [
      "avg train loss:0.09442643234797288 | avg train accuracy:0.96875 | avg val loss:0.7320863232016563 | avg val accuracy:0.8239583333333333\n"
     ]
    },
    {
     "data": {
      "application/vnd.jupyter.widget-view+json": {
       "model_id": "f130bb6f4a13454e9ab4f15559e86d0b",
       "version_major": 2,
       "version_minor": 0
      },
      "text/plain": [
       "  0%|          | 0/64 [00:00<?, ?batch/s]"
      ]
     },
     "metadata": {},
     "output_type": "display_data"
    },
    {
     "data": {
      "application/vnd.jupyter.widget-view+json": {
       "model_id": "39386e9f48354c47a0680444258bf823",
       "version_major": 2,
       "version_minor": 0
      },
      "text/plain": [
       "  0%|          | 0/8 [00:00<?, ?it/s]"
      ]
     },
     "metadata": {},
     "output_type": "display_data"
    },
    {
     "name": "stdout",
     "output_type": "stream",
     "text": [
      "avg train loss:0.0684601642024063 | avg train accuracy:0.97578125 | avg val loss:0.7957864124327898 | avg val accuracy:0.8200520833333333\n"
     ]
    },
    {
     "data": {
      "application/vnd.jupyter.widget-view+json": {
       "model_id": "9ebdcef659b14cffb7c9a2f70fe9f791",
       "version_major": 2,
       "version_minor": 0
      },
      "text/plain": [
       "  0%|          | 0/64 [00:00<?, ?batch/s]"
      ]
     },
     "metadata": {},
     "output_type": "display_data"
    },
    {
     "data": {
      "application/vnd.jupyter.widget-view+json": {
       "model_id": "67c49678f885408eac9d749ec3ef899a",
       "version_major": 2,
       "version_minor": 0
      },
      "text/plain": [
       "  0%|          | 0/8 [00:00<?, ?it/s]"
      ]
     },
     "metadata": {},
     "output_type": "display_data"
    },
    {
     "name": "stdout",
     "output_type": "stream",
     "text": [
      "avg train loss:0.05127768247621134 | avg train accuracy:0.98486328125 | avg val loss:0.8872785810381174 | avg val accuracy:0.8200520833333333\n"
     ]
    },
    {
     "data": {
      "application/vnd.jupyter.widget-view+json": {
       "model_id": "d46f3fc22c8544cdbede7bb16dcccf32",
       "version_major": 2,
       "version_minor": 0
      },
      "text/plain": [
       "  0%|          | 0/64 [00:00<?, ?batch/s]"
      ]
     },
     "metadata": {},
     "output_type": "display_data"
    },
    {
     "data": {
      "application/vnd.jupyter.widget-view+json": {
       "model_id": "f531939678f44298b32ec6be8cf9f690",
       "version_major": 2,
       "version_minor": 0
      },
      "text/plain": [
       "  0%|          | 0/8 [00:00<?, ?it/s]"
      ]
     },
     "metadata": {},
     "output_type": "display_data"
    },
    {
     "name": "stdout",
     "output_type": "stream",
     "text": [
      "avg train loss:0.04073867454644642 | avg train accuracy:0.98974609375 | avg val loss:0.9129131510853767 | avg val accuracy:0.8239583333333333\n"
     ]
    },
    {
     "data": {
      "application/vnd.jupyter.widget-view+json": {
       "model_id": "2d38b849fcdb4330940570a9138ae8bd",
       "version_major": 2,
       "version_minor": 0
      },
      "text/plain": [
       "  0%|          | 0/64 [00:00<?, ?batch/s]"
      ]
     },
     "metadata": {},
     "output_type": "display_data"
    },
    {
     "data": {
      "application/vnd.jupyter.widget-view+json": {
       "model_id": "4dea700fd985430294fc431af214ebb5",
       "version_major": 2,
       "version_minor": 0
      },
      "text/plain": [
       "  0%|          | 0/8 [00:00<?, ?it/s]"
      ]
     },
     "metadata": {},
     "output_type": "display_data"
    },
    {
     "name": "stdout",
     "output_type": "stream",
     "text": [
      "avg train loss:0.04067189292618423 | avg train accuracy:0.9875 | avg val loss:0.9518848732113838 | avg val accuracy:0.8239583333333333\n",
      "best val loss:0.3940008254721761\n"
     ]
    }
   ],
   "source": [
    "device = torch.device(\"cuda\") \n",
    "best_val_loss = 999999999999\n",
    "model = NeuralCLF() \n",
    "model.to(device) \n",
    "loss_func = nn.CrossEntropyLoss() \n",
    "optimizer = AdamW(model.parameters(), lr=2e-5, eps=1e-8)\n",
    "epochs = 10 \n",
    "total_steps = len(train_dataloader) * epochs \n",
    "scheduler = get_linear_schedule_with_warmup(optimizer, num_warmup_steps=int(0.05*total_steps), num_training_steps=total_steps) \n",
    "model.zero_grad() \n",
    "for epoch_i in tqdm(range(0, epochs), desc=\"Epochs\", position=0, leave=True, total=epochs):\n",
    "    train_loss, train_accuracy = 0, 0 \n",
    "    model.train() \n",
    "    with tqdm(train_dataloader, unit=\"batch\") as tepoch: \n",
    "        for step, batch in enumerate(tepoch): \n",
    "            batch = tuple(t.to(device) for t in batch)\n",
    "            b_input_ids, b_attn_masks, b_labels = batch \n",
    "            outputs = model(b_input_ids, b_attn_masks) \n",
    "            loss = loss_func(outputs, b_labels) \n",
    "            train_loss += loss.item() \n",
    "            train_accuracy += flat_accuracy(outputs.detach().cpu().numpy(), b_labels.detach().cpu().numpy())            \n",
    "            loss.backward() \n",
    "            torch.nn.utils.clip_grad_norm_(model.parameters(), 1.0) \n",
    "            optimizer.step() \n",
    "            scheduler.step() \n",
    "            model.zero_grad() \n",
    "            tepoch.set_postfix(loss=train_loss / (step+1), accuracy=train_accuracy/(step+1))\n",
    "            time.sleep(0.1) \n",
    "    avg_train_loss = train_loss / len(train_dataloader) \n",
    "    avg_train_accuracy = train_accuracy / len(train_dataloader) \n",
    "    \n",
    "    val_loss, val_accuracy = 0, 0 \n",
    "    model.eval() \n",
    "    for step, batch in tqdm(enumerate(val_dataloader), position=0, leave=True, total=len(val_dataloader)): \n",
    "        batch = tuple(t.to(device) for t in batch) \n",
    "        b_input_ids, b_attn_masks, b_labels = batch \n",
    "        with torch.no_grad(): \n",
    "            outputs = model(b_input_ids, b_attn_masks) \n",
    "            loss = loss_func(outputs, b_labels) \n",
    "            val_loss += loss.item() \n",
    "            val_accuracy += flat_accuracy(outputs.detach().cpu().numpy(), b_labels.detach().cpu().numpy()) \n",
    "    avg_val_loss = val_loss / len(val_dataloader) \n",
    "    avg_val_accuracy = val_accuracy / len(val_dataloader)  \n",
    "    \n",
    "    print(f\"avg train loss:{avg_train_loss} | avg train accuracy:{avg_train_accuracy} | avg val loss:{avg_val_loss} | avg val accuracy:{avg_val_accuracy}\")\n",
    "    \n",
    "    if avg_val_loss < best_val_loss:\n",
    "        print(\"saving current best checkpoint!\") \n",
    "        best_val_loss = avg_val_loss \n",
    "        torch.save(model.state_dict(), \"law_large_clf_bigbird.pt\")\n",
    "    \n",
    "print(f\"best val loss:{best_val_loss}\")"
   ]
  },
  {
   "cell_type": "markdown",
   "id": "be5411e9-e937-4745-b749-2895e74fb1e9",
   "metadata": {},
   "source": [
    "# Testing"
   ]
  },
  {
   "cell_type": "code",
   "execution_count": 20,
   "id": "d5609951-f195-4e98-9612-0e326e004f65",
   "metadata": {},
   "outputs": [
    {
     "name": "stderr",
     "output_type": "stream",
     "text": [
      "loading configuration file config.json from cache at /root/.cache/huggingface/hub/models--monologg--kobigbird-bert-base/snapshots/ceacda477e20abef2c929adfa4a07c6f811323be/config.json\n",
      "Model config BigBirdConfig {\n",
      "  \"_name_or_path\": \"monologg/kobigbird-bert-base\",\n",
      "  \"architectures\": [\n",
      "    \"BigBirdForMaskedLM\"\n",
      "  ],\n",
      "  \"attention_probs_dropout_prob\": 0.1,\n",
      "  \"attention_type\": \"block_sparse\",\n",
      "  \"block_size\": 64,\n",
      "  \"bos_token_id\": 5,\n",
      "  \"classifier_dropout\": null,\n",
      "  \"eos_token_id\": 6,\n",
      "  \"gradient_checkpointing\": false,\n",
      "  \"hidden_act\": \"gelu_new\",\n",
      "  \"hidden_dropout_prob\": 0.1,\n",
      "  \"hidden_size\": 768,\n",
      "  \"initializer_range\": 0.02,\n",
      "  \"intermediate_size\": 3072,\n",
      "  \"layer_norm_eps\": 1e-12,\n",
      "  \"max_position_embeddings\": 4096,\n",
      "  \"model_type\": \"big_bird\",\n",
      "  \"num_attention_heads\": 12,\n",
      "  \"num_hidden_layers\": 12,\n",
      "  \"num_random_blocks\": 3,\n",
      "  \"pad_token_id\": 0,\n",
      "  \"position_embedding_type\": \"absolute\",\n",
      "  \"rescale_embeddings\": false,\n",
      "  \"sep_token_id\": 3,\n",
      "  \"tokenizer_class\": \"BertTokenizer\",\n",
      "  \"torch_dtype\": \"float32\",\n",
      "  \"transformers_version\": \"4.26.1\",\n",
      "  \"type_vocab_size\": 2,\n",
      "  \"use_bias\": true,\n",
      "  \"use_cache\": true,\n",
      "  \"vocab_size\": 32500\n",
      "}\n",
      "\n",
      "loading weights file pytorch_model.bin from cache at /root/.cache/huggingface/hub/models--monologg--kobigbird-bert-base/snapshots/ceacda477e20abef2c929adfa4a07c6f811323be/pytorch_model.bin\n",
      "Some weights of the model checkpoint at monologg/kobigbird-bert-base were not used when initializing BigBirdModel: ['cls.predictions.transform.LayerNorm.weight', 'cls.seq_relationship.weight', 'cls.predictions.transform.LayerNorm.bias', 'cls.predictions.transform.dense.bias', 'cls.predictions.transform.dense.weight', 'cls.predictions.bias', 'cls.predictions.decoder.weight', 'cls.predictions.decoder.bias', 'cls.seq_relationship.bias']\n",
      "- This IS expected if you are initializing BigBirdModel from the checkpoint of a model trained on another task or with another architecture (e.g. initializing a BertForSequenceClassification model from a BertForPreTraining model).\n",
      "- This IS NOT expected if you are initializing BigBirdModel from the checkpoint of a model that you expect to be exactly identical (initializing a BertForSequenceClassification model from a BertForSequenceClassification model).\n",
      "All the weights of BigBirdModel were initialized from the model checkpoint at monologg/kobigbird-bert-base.\n",
      "If your task is similar to the task the model of the checkpoint was trained on, you can already use BigBirdModel for predictions without further training.\n"
     ]
    },
    {
     "name": "stdout",
     "output_type": "stream",
     "text": [
      "\n"
     ]
    }
   ],
   "source": [
    "device = torch.device(\"cuda:0\" if torch.cuda.is_available() else \"cpu\") \n",
    "checkpoint = torch.load(\"law_large_clf_bigbird.pt\")\n",
    "test_model = NeuralCLF()\n",
    "test_model.load_state_dict(checkpoint) \n",
    "test_model.to(device)\n",
    "test_model.eval() \n",
    "print() "
   ]
  },
  {
   "cell_type": "code",
   "execution_count": 23,
   "id": "46079243-c51e-4448-b9a7-c18f22bff695",
   "metadata": {},
   "outputs": [
    {
     "data": {
      "application/vnd.jupyter.widget-view+json": {
       "model_id": "ed6d9f415b134c6ba0a3cd464821de08",
       "version_major": 2,
       "version_minor": 0
      },
      "text/plain": [
       "  0%|          | 0/8 [00:00<?, ?it/s]"
      ]
     },
     "metadata": {},
     "output_type": "display_data"
    }
   ],
   "source": [
    "test_predictions, ground_truths = [], []  \n",
    "\n",
    "for step, batch in tqdm(enumerate(test_dataloader), position=0, leave=True, total=len(test_dataloader)): \n",
    "    batch = (t.to(device) for t in batch) \n",
    "    b_input_ids, b_attn_masks, b_labels = batch \n",
    "    with torch.no_grad(): \n",
    "        output = test_model(b_input_ids, b_attn_masks) \n",
    "        output_labels = torch.argmax(output, dim=1) \n",
    "        test_predictions.extend(output_labels.detach().cpu().numpy())\n",
    "        ground_truths.extend(b_labels.detach().cpu().numpy())"
   ]
  },
  {
   "cell_type": "code",
   "execution_count": 35,
   "id": "7990ebbc-8fbb-427d-a070-5f53ff5d8f1f",
   "metadata": {},
   "outputs": [
    {
     "name": "stdout",
     "output_type": "stream",
     "text": [
      "Accuracy:83.13725490196079% | Weighted F1:0.8322638890025339\n"
     ]
    }
   ],
   "source": [
    "cnt = 0 \n",
    "for i in range(len(test_predictions)): \n",
    "    if test_predictions[i] == ground_truths[i]: \n",
    "        cnt += 1 \n",
    "        \n",
    "accuracy = cnt / len(test_predictions) * 100 \n",
    "f1 = f1_score(ground_truths, test_predictions, average=\"weighted\")  \n",
    "\n",
    "print(f\"Accuracy:{accuracy}% | Weighted F1:{f1}\") "
   ]
  },
  {
   "cell_type": "code",
   "execution_count": 53,
   "id": "0a4a830b-5bdb-4734-bc81-d44fbf1ec28d",
   "metadata": {},
   "outputs": [
    {
     "data": {
      "application/vnd.jupyter.widget-view+json": {
       "model_id": "a81ae64cd0234f2b9d7210298b921287",
       "version_major": 2,
       "version_minor": 0
      },
      "text/plain": [
       "  0%|          | 0/1000 [00:00<?, ?it/s]"
      ]
     },
     "metadata": {},
     "output_type": "display_data"
    }
   ],
   "source": [
    "import random \n",
    "\n",
    "accuracies = [] \n",
    "f1s = [] \n",
    "\n",
    "for iterations in tqdm(range(1000)): \n",
    "    cnt = 0 \n",
    "    actions = [] \n",
    "    for i in range(len(ground_truths)): \n",
    "        action = random.randint(0,1)\n",
    "        actions.append(action) \n",
    "    for i in range(len(ground_truths)):\n",
    "        if actions[i] == ground_truths[i]: \n",
    "            cnt += 1 \n",
    "    accuracy = cnt / len(ground_truths) \n",
    "    f1 = f1_score(ground_truths, actions, average=\"weighted\") \n",
    "    accuracies.append(accuracy) \n",
    "    f1s.append(f1) "
   ]
  },
  {
   "cell_type": "code",
   "execution_count": 54,
   "id": "2322398d-bde5-46a2-abb3-58cf45813174",
   "metadata": {},
   "outputs": [
    {
     "data": {
      "text/plain": [
       "(49.924705882352946, 0.5014682437582313)"
      ]
     },
     "execution_count": 54,
     "metadata": {},
     "output_type": "execute_result"
    }
   ],
   "source": [
    "np.mean(accuracies)*100, np.mean(f1s)"
   ]
  },
  {
   "cell_type": "code",
   "execution_count": 55,
   "id": "db61e62e-ca2d-48c6-aae7-1aede3b6ff8f",
   "metadata": {},
   "outputs": [
    {
     "data": {
      "text/plain": [
       "(57.25490196078431, 0.4169184880934917)"
      ]
     },
     "execution_count": 55,
     "metadata": {},
     "output_type": "execute_result"
    }
   ],
   "source": [
    "cnt = 0 \n",
    "actions = [0 for _ in range(len(ground_truths))] \n",
    "for i in range(len(ground_truths)):\n",
    "    if actions[i] == ground_truths[i]: \n",
    "        cnt += 1 \n",
    "accuracy = cnt / len(ground_truths) \n",
    "f1 = f1_score(ground_truths, actions, average=\"weighted\") \n",
    "\n",
    "accuracy*100, f1"
   ]
  },
  {
   "cell_type": "code",
   "execution_count": 56,
   "id": "f1de210c-08e5-401c-9745-daf9464f0b0b",
   "metadata": {},
   "outputs": [
    {
     "data": {
      "text/plain": [
       "(42.745098039215684, 0.2560008618832148)"
      ]
     },
     "execution_count": 56,
     "metadata": {},
     "output_type": "execute_result"
    }
   ],
   "source": [
    "cnt = 0 \n",
    "actions = [1 for _ in range(len(ground_truths))] \n",
    "for i in range(len(ground_truths)):\n",
    "    if actions[i] == ground_truths[i]: \n",
    "        cnt += 1 \n",
    "accuracy = cnt / len(ground_truths) \n",
    "f1 = f1_score(ground_truths, actions, average=\"weighted\") \n",
    "\n",
    "accuracy*100, f1"
   ]
  },
  {
   "cell_type": "code",
   "execution_count": null,
   "id": "d035b201-5806-4990-a37b-892e927032c4",
   "metadata": {},
   "outputs": [],
   "source": []
  },
  {
   "cell_type": "code",
   "execution_count": null,
   "id": "1bdbdce8-7c9d-4276-84ac-8cb54af35576",
   "metadata": {},
   "outputs": [],
   "source": []
  },
  {
   "cell_type": "code",
   "execution_count": null,
   "id": "b5dfb870-8715-47d4-aea0-808a37163b11",
   "metadata": {},
   "outputs": [],
   "source": []
  }
 ],
 "metadata": {
  "kernelspec": {
   "display_name": "Python 3 (ipykernel)",
   "language": "python",
   "name": "python3"
  },
  "language_info": {
   "codemirror_mode": {
    "name": "ipython",
    "version": 3
   },
   "file_extension": ".py",
   "mimetype": "text/x-python",
   "name": "python",
   "nbconvert_exporter": "python",
   "pygments_lexer": "ipython3",
   "version": "3.8.12"
  }
 },
 "nbformat": 4,
 "nbformat_minor": 5
}
