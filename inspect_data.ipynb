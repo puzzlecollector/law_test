{
 "cells": [
  {
   "cell_type": "code",
   "execution_count": 12,
   "id": "f59e5ac5-2db8-45a1-a8bf-fc47771e4407",
   "metadata": {},
   "outputs": [],
   "source": [
    "import numpy as np\n",
    "import pandas as pd\n",
    "from pytorch_metric_learning import miners, losses, distances \n",
    "import os\n",
    "from transformers import *\n",
    "import torch\n",
    "import torch.nn as nn\n",
    "import torch.nn.functional as F\n",
    "from torch.utils.data import Dataset, TensorDataset, DataLoader, RandomSampler, SequentialSampler\n",
    "import pickle\n",
    "import time\n",
    "from sklearn.model_selection import train_test_split, KFold\n",
    "import json\n",
    "from tqdm.auto import tqdm\n",
    "import random \n",
    "import math \n",
    "import faiss # pip install faiss-gpu \n",
    "from rank_bm25 import BM25Okapi\n",
    "import pickle "
   ]
  },
  {
   "cell_type": "code",
   "execution_count": 13,
   "id": "d245999a-04a1-4ac2-8429-be44a170603c",
   "metadata": {},
   "outputs": [
    {
     "data": {
      "application/vnd.jupyter.widget-view+json": {
       "model_id": "bd67345a07454fdab79d46b30c343073",
       "version_major": 2,
       "version_minor": 0
      },
      "text/plain": [
       "  0%|          | 0/60069 [00:00<?, ?it/s]"
      ]
     },
     "metadata": {},
     "output_type": "display_data"
    }
   ],
   "source": [
    "data = []\n",
    "\n",
    "with open(\"law_candidates_60K.jsonl\") as f:\n",
    "    for line in f:\n",
    "        data.append(json.loads(line))\n",
    "\n",
    "queries, passages, answers = [], [], []\n",
    "for i in tqdm(range(len(data)), position=0, leave=True):\n",
    "    query = data[i][\"summary\"]\n",
    "    passage = data[i][\"text\"]\n",
    "    answer = data[i][\"answer\"]\n",
    "    queries.append(query)\n",
    "    passages.append(passage)\n",
    "    answers.append(answer)\n",
    "\n",
    "all_data = pd.DataFrame(list(zip(queries, passages, answers)), columns=[\"queries\", \"passages\", \"answers\"])\n"
   ]
  },
  {
   "cell_type": "code",
   "execution_count": 21,
   "id": "ba072f8f-2dea-419e-81b4-5adb69e7d043",
   "metadata": {},
   "outputs": [
    {
     "name": "stderr",
     "output_type": "stream",
     "text": [
      "loading file https://huggingface.co/monologg/kobigbird-bert-base/resolve/main/vocab.txt from cache at /root/.cache/huggingface/transformers/00ac7c2886f9d4555133877badce522b93b38439d90b0135d9b414cc1fafd167.34d17d2d06e0d29acc69761e3ddeced0dfdcf4cefa0aa81a1bb267a7dfdd5bcb\n",
      "loading file https://huggingface.co/monologg/kobigbird-bert-base/resolve/main/tokenizer.json from cache at /root/.cache/huggingface/transformers/e2eb4ad30139b806997f999b45c0a0d9ea38b14e0d97f42db852be137e061b1e.616843352d77fff459e989408eaacf1280dc39dcd346ff746aa3b3fbe6a123d9\n",
      "loading file https://huggingface.co/monologg/kobigbird-bert-base/resolve/main/added_tokens.json from cache at None\n",
      "loading file https://huggingface.co/monologg/kobigbird-bert-base/resolve/main/special_tokens_map.json from cache at /root/.cache/huggingface/transformers/9bea998b48658e35dd618115a266f6c173183a9a4261fc6e40730d74c4b67899.e3640e465e51ce85d94923a0b396029ecc2e3e4c7764031eee57ab272637652d\n",
      "loading file https://huggingface.co/monologg/kobigbird-bert-base/resolve/main/tokenizer_config.json from cache at /root/.cache/huggingface/transformers/e2d347346e3e13ea8d3e50ab2baef2cde9e7942cb05158cbd0effaa54af4e6e0.0763f758d6f4d3780831e69ac1702755a04a05bdbcb3e4f7692b6b546171ccb1\n"
     ]
    }
   ],
   "source": [
    "model_name = \"monologg/kobigbird-bert-base\"\n",
    "tokenizer = AutoTokenizer.from_pretrained(model_name)"
   ]
  },
  {
   "cell_type": "code",
   "execution_count": 17,
   "id": "f0004f5e-5085-4a9a-bd0c-e72be0031e50",
   "metadata": {},
   "outputs": [],
   "source": [
    "train_df, test_df = train_test_split(all_data, test_size=0.2, random_state=42)\n",
    "valid_df, test_df = train_test_split(test_df, test_size=0.5, random_state=42)\n",
    "\n",
    "query_index_dict = {} \n",
    "\n",
    "for i in range(len(queries)):\n",
    "    query_index_dict[queries[i]] = [] \n",
    "\n",
    "for i in range(len(queries)): \n",
    "    query_index_dict[queries[i]].append(i) "
   ]
  },
  {
   "cell_type": "markdown",
   "id": "745a3d3c-0d28-49d1-9f1d-2e640c64ec42",
   "metadata": {},
   "source": [
    "# create train set and validation set \n",
    "\n",
    "construct hard negative pairs"
   ]
  },
  {
   "cell_type": "code",
   "execution_count": 65,
   "id": "cacb1999-840f-4d91-8c15-c0606d1696bf",
   "metadata": {},
   "outputs": [
    {
     "data": {
      "application/vnd.jupyter.widget-view+json": {
       "model_id": "08275a60e2a8459e817227909b951962",
       "version_major": 2,
       "version_minor": 0
      },
      "text/plain": [
       "  0%|          | 0/60069 [00:00<?, ?it/s]"
      ]
     },
     "metadata": {},
     "output_type": "display_data"
    }
   ],
   "source": [
    "# create BM25 instance \n",
    "tokenized_corpus = []\n",
    "\n",
    "for candidate in tqdm(passages, position=0, leave=True): \n",
    "    tokenized_corpus.append(tokenizer.tokenize(candidate)) \n",
    "\n",
    "bm25 = BM25Okapi(tokenized_corpus)"
   ]
  },
  {
   "cell_type": "code",
   "execution_count": 125,
   "id": "0a11a5aa-5ae4-408c-b219-d26222a17c7c",
   "metadata": {},
   "outputs": [
    {
     "data": {
      "application/vnd.jupyter.widget-view+json": {
       "model_id": "24be5c1ef6eb42f7a5a4b0f8feb28ed0",
       "version_major": 2,
       "version_minor": 0
      },
      "text/plain": [
       "  0%|          | 0/48055 [00:00<?, ?it/s]"
      ]
     },
     "metadata": {},
     "output_type": "display_data"
    },
    {
     "data": {
      "application/vnd.jupyter.widget-view+json": {
       "model_id": "d751cf56201a484a98e9e52581985c12",
       "version_major": 2,
       "version_minor": 0
      },
      "text/plain": [
       "creating train dataset:   0%|          | 0/100 [00:00<?, ?it/s]"
      ]
     },
     "metadata": {},
     "output_type": "display_data"
    }
   ],
   "source": [
    "train_positive_dict, train_negative_dict = {}, {} \n",
    "train_queries = train_df[\"queries\"].values \n",
    "\n",
    "for query in tqdm(train_queries, position=0, leave=True): \n",
    "    train_positive_dict[query] = [] \n",
    "    train_negative_dict[query] = [] \n",
    "\n",
    "\n",
    "for query in tqdm(train_queries[:100], position=0, leave=True, desc=\"creating train dataset\"): \n",
    "    cnt = 0 \n",
    "    for idx in query_index_dict[query]:\n",
    "        try: \n",
    "            train_positive_dict[query].append(passages[idx]) \n",
    "            cnt += 1 \n",
    "        except:\n",
    "            continue \n",
    "    tokenized_query = tokenizer.tokenize(query) \n",
    "    negative_code_scores = bm25.get_scores(tokenized_query) \n",
    "    negative_code_ranking = negative_code_scores.argsort()[::-1]\n",
    "    idxs = query_index_dict[query] \n",
    "    negative_cnt = 0 \n",
    "    for i in range(len(negative_code_ranking)): \n",
    "        if negative_code_ranking[i] not in idxs: \n",
    "            train_negative_dict[query].append(passages[negative_code_ranking[i]])  \n",
    "            negative_cnt += 1 \n",
    "        if negative_cnt >= cnt: \n",
    "            break     "
   ]
  },
  {
   "cell_type": "code",
   "execution_count": null,
   "id": "dc3603c2-2a03-455d-9fc2-035689b5bc62",
   "metadata": {},
   "outputs": [],
   "source": []
  },
  {
   "cell_type": "code",
   "execution_count": null,
   "id": "c1a4edea-06f9-41ed-b6d0-2e06d5e7e5e7",
   "metadata": {},
   "outputs": [],
   "source": []
  },
  {
   "cell_type": "code",
   "execution_count": 132,
   "id": "018cd9ae-eff9-4a92-8f51-406d5f61f587",
   "metadata": {},
   "outputs": [
    {
     "data": {
      "application/vnd.jupyter.widget-view+json": {
       "model_id": "599d55de97164c1c9a5daac9125d0413",
       "version_major": 2,
       "version_minor": 0
      },
      "text/plain": [
       "  0%|          | 0/6007 [00:00<?, ?it/s]"
      ]
     },
     "metadata": {},
     "output_type": "display_data"
    },
    {
     "data": {
      "application/vnd.jupyter.widget-view+json": {
       "model_id": "8891c7594432420f84e3c524a1d1da6b",
       "version_major": 2,
       "version_minor": 0
      },
      "text/plain": [
       "creating valid dataset:   0%|          | 0/100 [00:00<?, ?it/s]"
      ]
     },
     "metadata": {},
     "output_type": "display_data"
    }
   ],
   "source": [
    "valid_positive_dict, valid_negative_dict = {}, {} \n",
    "valid_queries = valid_df[\"queries\"].values \n",
    "\n",
    "for query in tqdm(valid_queries, position=0, leave=True): \n",
    "    valid_positive_dict[query] = [] \n",
    "    valid_negative_dict[query] = [] \n",
    "\n",
    "\n",
    "for query in tqdm(valid_queries[:100], position=0, leave=True, desc=\"creating valid dataset\"): \n",
    "    cnt = 0 \n",
    "    for idx in query_index_dict[query]: \n",
    "        try: \n",
    "            valid_positive_dict[query].append(passages[idx])  \n",
    "            cnt += 1 \n",
    "        except:\n",
    "            continue \n",
    "    tokenized_query = tokenizer.tokenize(query) \n",
    "    negative_code_scores = bm25.get_scores(tokenized_query) \n",
    "    negative_code_ranking = negative_code_scores.argsort()[::-1]\n",
    "    idxs = query_index_dict[query] \n",
    "    negative_cnt = 0\n",
    "    for i in range(len(negative_code_ranking)):\n",
    "        if negative_code_ranking[i] not in idxs: \n",
    "            valid_negative_dict[query].append(passages[negative_code_ranking[i]]) \n",
    "            negative_cnt += 1 \n",
    "        if negative_cnt >= cnt:\n",
    "            break "
   ]
  },
  {
   "cell_type": "code",
   "execution_count": 149,
   "id": "b9879edc-ef69-4c51-b012-0f80329f2b5c",
   "metadata": {},
   "outputs": [
    {
     "data": {
      "text/plain": [
       "'가격담합에 관한 수회의 합의 중에 일시적으로 가격인하 등의 조치가 있는 경우, 합의가 파기되거나 종료되어 합의가 단절된 것으로 볼 수 있는지 여부'"
      ]
     },
     "execution_count": 149,
     "metadata": {},
     "output_type": "execute_result"
    }
   ],
   "source": [
    "query"
   ]
  },
  {
   "cell_type": "code",
   "execution_count": 147,
   "id": "bd715c9c-006c-4d14-96f4-b078e5c9b7c5",
   "metadata": {},
   "outputs": [
    {
     "data": {
      "text/plain": [
       "['구 독점규제 및 공정거래에 관한 법률(2004. 12. 31. 법률 제7315호로 개정되기 전의 것) 제19조 제1항 제1호에 정한 가격 결정 등의 합의 및 그에 터잡은 실행행위가 있었던 경우 부당한 공동행위가 종료한 날은 그 합의에 터잡은 실행행위가 종료한 날이므로, 합의에 참가한 일부 사업자가 부당한 공동행위를 종료하기 위해서는 다른 사업자에 대하여 합의에서 탈퇴하였음을 알리는 명시적 내지 묵시적인 의사표시를 하고 독자적인 판단에 따라 담합이 없었더라면 존재하였을 가격 수준으로 인하하는 등 합의에 반하는 행위를 하여야 한다. 또한, 합의에 참가한 사업자 전부에 대하여 부당한 공동행위가 종료되었다고 하기 위해서는 합의에 참가한 사업자들이 명시적으로 합의를 파기하고 각 사업자가 각자의 독자적인 판단에 따라 담합이 없었더라면 존재하였을 가격 수준으로 인하하는 등 합의에 반하는 행위를 하거나 또는 합의에 참가한 사업자들 사이에 반복적인 가격 경쟁 등을 통하여 담합이 사실상 파기되었다고 인정할 수 있을 만한 행위가 일정 기간 계속되는 등 합의가 사실상 파기되었다고 볼 수 있을 만한 사정이 있어야 한다.']"
      ]
     },
     "execution_count": 147,
     "metadata": {},
     "output_type": "execute_result"
    }
   ],
   "source": [
    "valid_negative_dict[query]"
   ]
  },
  {
   "cell_type": "code",
   "execution_count": 146,
   "id": "03c873e7-4e81-444b-9ff6-27881da4080e",
   "metadata": {},
   "outputs": [
    {
     "data": {
      "text/plain": [
       "['일반적으로 가격담합의 경우, 수회의 합의 중에 일시적으로 사업자들의 가격인하 등의 조치가 있더라도 사업자들의 명시적인 담합파기 의사표시가 있었음이 인정되지 않는 이상 합의가 파기되거나 종료되어 합의가 단절되었다고 보기 어렵다.']"
      ]
     },
     "execution_count": 146,
     "metadata": {},
     "output_type": "execute_result"
    }
   ],
   "source": [
    "valid_positive_dict[query] "
   ]
  },
  {
   "cell_type": "code",
   "execution_count": null,
   "id": "b98184d6-b722-4992-9089-fdf044249b04",
   "metadata": {},
   "outputs": [],
   "source": []
  },
  {
   "cell_type": "code",
   "execution_count": null,
   "id": "1929f6a8-6285-4b10-9708-431fe19867ba",
   "metadata": {},
   "outputs": [],
   "source": []
  },
  {
   "cell_type": "code",
   "execution_count": null,
   "id": "6c78a3e8-b1e3-4430-8593-68df636282e6",
   "metadata": {},
   "outputs": [],
   "source": []
  },
  {
   "cell_type": "code",
   "execution_count": null,
   "id": "a4ef831c-0e34-4f41-9790-c69f701fef97",
   "metadata": {},
   "outputs": [],
   "source": []
  },
  {
   "cell_type": "code",
   "execution_count": null,
   "id": "7185f277-549a-481d-9e97-c254a4befb6d",
   "metadata": {},
   "outputs": [],
   "source": []
  },
  {
   "cell_type": "code",
   "execution_count": 123,
   "id": "a73c754d-f5bc-46d9-ab63-7e9e78410db0",
   "metadata": {},
   "outputs": [],
   "source": [
    "with open(\"train_positive_pairs.pkl\", \"wb\") as file: \n",
    "    pickle.dump(train_positive_pairs, file) \n",
    "    \n",
    "with open(\"train_negative_pairs.pkl\", \"wb\") as file: \n",
    "    pickle.dump(train_negative_pairs, file) \n",
    "\n",
    "with open(\"valid_positive_pairs.pkl\", \"wb\") as file:\n",
    "    pickle.dump(valid_positive_pairs, file)\n",
    "    \n",
    "with open(\"valid_negative_pairs.pkl\", \"wb\") as file: \n",
    "    pickle.dump(valid_negative_pairs, file) "
   ]
  },
  {
   "cell_type": "code",
   "execution_count": null,
   "id": "6524f3da-8950-4aec-a28f-2e4c5c89eb26",
   "metadata": {},
   "outputs": [],
   "source": []
  },
  {
   "cell_type": "code",
   "execution_count": 157,
   "id": "2b17ee04-13a3-4a49-ba6f-90eae8982a5f",
   "metadata": {},
   "outputs": [],
   "source": [
    "with open(\"valid_negative_dict.pkl\", \"rb\") as file: \n",
    "    d = pickle.load(file) "
   ]
  },
  {
   "cell_type": "code",
   "execution_count": null,
   "id": "faa68ea2-1577-4d9f-8c18-f4a573cf1aa5",
   "metadata": {},
   "outputs": [],
   "source": []
  }
 ],
 "metadata": {
  "kernelspec": {
   "display_name": "Python 3 (ipykernel)",
   "language": "python",
   "name": "python3"
  },
  "language_info": {
   "codemirror_mode": {
    "name": "ipython",
    "version": 3
   },
   "file_extension": ".py",
   "mimetype": "text/x-python",
   "name": "python",
   "nbconvert_exporter": "python",
   "pygments_lexer": "ipython3",
   "version": "3.9.16"
  }
 },
 "nbformat": 4,
 "nbformat_minor": 5
}
