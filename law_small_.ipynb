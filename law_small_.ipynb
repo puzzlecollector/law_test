{
 "cells": [
  {
   "cell_type": "code",
   "execution_count": 1,
   "id": "4f9e1ac3-1cdf-42ff-891f-4ef9c324c213",
   "metadata": {},
   "outputs": [
    {
     "name": "stderr",
     "output_type": "stream",
     "text": [
      "/opt/conda/lib/python3.8/site-packages/transformers/generation_utils.py:24: FutureWarning: Importing `GenerationMixin` from `src/transformers/generation_utils.py` is deprecated and will be removed in Transformers v5. Import as `from transformers import GenerationMixin` instead.\n",
      "  warnings.warn(\n"
     ]
    }
   ],
   "source": [
    "import numpy as np \n",
    "import pandas as pd \n",
    "import json\n",
    "from transformers import * \n",
    "import os\n",
    "from tqdm.auto import tqdm \n",
    "import torch \n",
    "import torch.nn as nn \n",
    "import torch.nn.functional as F \n",
    "from torch.utils.data import Dataset, TensorDataset, DataLoader, RandomSampler, SequentialSampler \n",
    "import pickle \n",
    "import time "
   ]
  },
  {
   "cell_type": "code",
   "execution_count": 2,
   "id": "06223be4-d632-4d66-bf19-4a29833f6d32",
   "metadata": {},
   "outputs": [],
   "source": [
    "with open(\"민법.json\") as f: \n",
    "    d = json.load(f) "
   ]
  },
  {
   "cell_type": "code",
   "execution_count": 3,
   "id": "2766f89d-12dd-4f3e-8475-0808366d7b37",
   "metadata": {},
   "outputs": [
    {
     "data": {
      "application/vnd.jupyter.widget-view+json": {
       "model_id": "c118686be4b142f5b4bc2b82e2b11bec",
       "version_major": 2,
       "version_minor": 0
      },
      "text/plain": [
       "  0%|          | 0/784 [00:00<?, ?it/s]"
      ]
     },
     "metadata": {},
     "output_type": "display_data"
    }
   ],
   "source": [
    "questions = [] \n",
    "answers = [] \n",
    "candidates = [] \n",
    "refs = [] \n",
    "\n",
    "total = 0 \n",
    "cnt = 0\n",
    "\n",
    "for key, value in tqdm(d.items(), position=0, leave=True):\n",
    "    try: \n",
    "        qa_info = d[key][\"판시사항\"] \n",
    "        candidate_info = d[key][\"판결요지\"] \n",
    "        ref_info = d[key][\"참조조문\"]  \n",
    "        if len(qa_info) != len(candidate_info): \n",
    "            continue \n",
    "        else:\n",
    "            for i in range(len(qa_info)): \n",
    "                question = d[key][\"판시사항\"][i][\"question\"] \n",
    "                answer = d[key][\"판시사항\"][i][\"answer\"] \n",
    "                questions.append(question) \n",
    "                answers.append(answer) \n",
    "                candidates.append(candidate_info[i]) \n",
    "                refs.append(ref_info)         \n",
    "    except Exception as e: \n",
    "         continue  "
   ]
  },
  {
   "cell_type": "code",
   "execution_count": 4,
   "id": "e1ab7621-06b0-4048-910c-720ea89dbad0",
   "metadata": {},
   "outputs": [
    {
     "data": {
      "text/plain": [
       "(1574, 1574, 1574, 1574)"
      ]
     },
     "execution_count": 4,
     "metadata": {},
     "output_type": "execute_result"
    }
   ],
   "source": [
    "len(questions), len(answers), len(candidates), len(refs)"
   ]
  },
  {
   "cell_type": "code",
   "execution_count": 5,
   "id": "1150f7ae-a555-4d24-86e6-8f606d61f96b",
   "metadata": {},
   "outputs": [
    {
     "name": "stdout",
     "output_type": "stream",
     "text": [
      "47.45870393900889\n"
     ]
    }
   ],
   "source": [
    "cnt = 0\n",
    "for i in range(len(answers)): \n",
    "    if answers[i] != None: \n",
    "        cnt += 1 \n",
    "        \n",
    "exists = cnt / len(answers) * 100.0 \n",
    "\n",
    "print(exists) "
   ]
  },
  {
   "cell_type": "code",
   "execution_count": 6,
   "id": "bf6f42b2-8509-4cb3-b0f0-5b535464a262",
   "metadata": {},
   "outputs": [
    {
     "data": {
      "text/html": [
       "<div>\n",
       "<style scoped>\n",
       "    .dataframe tbody tr th:only-of-type {\n",
       "        vertical-align: middle;\n",
       "    }\n",
       "\n",
       "    .dataframe tbody tr th {\n",
       "        vertical-align: top;\n",
       "    }\n",
       "\n",
       "    .dataframe thead th {\n",
       "        text-align: right;\n",
       "    }\n",
       "</style>\n",
       "<table border=\"1\" class=\"dataframe\">\n",
       "  <thead>\n",
       "    <tr style=\"text-align: right;\">\n",
       "      <th></th>\n",
       "      <th>questions</th>\n",
       "      <th>candidates</th>\n",
       "      <th>references</th>\n",
       "    </tr>\n",
       "  </thead>\n",
       "  <tbody>\n",
       "    <tr>\n",
       "      <th>0</th>\n",
       "      <td>무권대리인의 상대방이 갖는 계약의 이행 또는 손해배상청구권의 소멸시효의 기산점</td>\n",
       "      <td>타인의 대리인으로 계약을 한 자가 그 대리권을 증명하지 못하고 또 본인의 추인을 얻...</td>\n",
       "      <td>민법 제135조</td>\n",
       "    </tr>\n",
       "    <tr>\n",
       "      <th>1</th>\n",
       "      <td>사실혼관계에 있는 당사자의 일방이 모르는 사이에 혼인 신고가 이루어진후 쌍방 당사자...</td>\n",
       "      <td>본법 제139조는 재산법에 관한 총칙규정이고 신분법에 관하여는 그대로 통   용될 ...</td>\n",
       "      <td>민법 제815조</td>\n",
       "    </tr>\n",
       "    <tr>\n",
       "      <th>2</th>\n",
       "      <td>남편 소유의 부동산 매각과, 아내의 일상 가사 대리권의 한계</td>\n",
       "      <td>부부간의 일상가사대리권은 그 동거생활을 추지하기 위하여 각각 필요한 범위내의 법률행...</td>\n",
       "      <td>민법 제827조</td>\n",
       "    </tr>\n",
       "    <tr>\n",
       "      <th>3</th>\n",
       "      <td>타인의 권리를 매매하였으나 이행불능이 된 경우에 매수인이 받을 손해배상의 범위</td>\n",
       "      <td>타인의 권리를 매매한 자가 권리이전을 할수 없게 된 때에는 매도인은 선의의 매수인에...</td>\n",
       "      <td>민법 제393조 제2항,\\n\\n민법 제569조</td>\n",
       "    </tr>\n",
       "    <tr>\n",
       "      <th>4</th>\n",
       "      <td>민법 제752조에 규정된 친족 이외의 친족의 위자료 청구권</td>\n",
       "      <td>본조에 의한 생명침해의 경우에 있어서의 위자료청구권자의 규정은 제한적 규정이 아니고...</td>\n",
       "      <td>민법 제752조</td>\n",
       "    </tr>\n",
       "  </tbody>\n",
       "</table>\n",
       "</div>"
      ],
      "text/plain": [
       "                                           questions  \\\n",
       "0        무권대리인의 상대방이 갖는 계약의 이행 또는 손해배상청구권의 소멸시효의 기산점   \n",
       "1  사실혼관계에 있는 당사자의 일방이 모르는 사이에 혼인 신고가 이루어진후 쌍방 당사자...   \n",
       "2                  남편 소유의 부동산 매각과, 아내의 일상 가사 대리권의 한계   \n",
       "3        타인의 권리를 매매하였으나 이행불능이 된 경우에 매수인이 받을 손해배상의 범위   \n",
       "4                   민법 제752조에 규정된 친족 이외의 친족의 위자료 청구권   \n",
       "\n",
       "                                          candidates  \\\n",
       "0  타인의 대리인으로 계약을 한 자가 그 대리권을 증명하지 못하고 또 본인의 추인을 얻...   \n",
       "1  본법 제139조는 재산법에 관한 총칙규정이고 신분법에 관하여는 그대로 통   용될 ...   \n",
       "2  부부간의 일상가사대리권은 그 동거생활을 추지하기 위하여 각각 필요한 범위내의 법률행...   \n",
       "3  타인의 권리를 매매한 자가 권리이전을 할수 없게 된 때에는 매도인은 선의의 매수인에...   \n",
       "4  본조에 의한 생명침해의 경우에 있어서의 위자료청구권자의 규정은 제한적 규정이 아니고...   \n",
       "\n",
       "                  references  \n",
       "0                   민법 제135조  \n",
       "1                   민법 제815조  \n",
       "2                   민법 제827조  \n",
       "3  민법 제393조 제2항,\\n\\n민법 제569조  \n",
       "4                   민법 제752조  "
      ]
     },
     "execution_count": 6,
     "metadata": {},
     "output_type": "execute_result"
    }
   ],
   "source": [
    "all_data = pd.DataFrame(list(zip(questions, candidates, refs)), columns=[\"questions\", \"candidates\", \"references\"])\n",
    "\n",
    "all_data.head() "
   ]
  },
  {
   "cell_type": "code",
   "execution_count": 7,
   "id": "e93858fe-5603-451c-8334-5a00df7192d8",
   "metadata": {},
   "outputs": [],
   "source": [
    "query_index_dict = {} \n",
    "\n",
    "for i in range(len(questions)): \n",
    "    query_index_dict[questions[i]] = i "
   ]
  },
  {
   "cell_type": "code",
   "execution_count": 8,
   "id": "c3bc4e35-8e93-40e8-9f6f-58cd0875b618",
   "metadata": {},
   "outputs": [
    {
     "name": "stderr",
     "output_type": "stream",
     "text": [
      "loading file vocab.txt from cache at /root/.cache/huggingface/hub/models--monologg--kobigbird-bert-base/snapshots/ceacda477e20abef2c929adfa4a07c6f811323be/vocab.txt\n",
      "loading file tokenizer.json from cache at /root/.cache/huggingface/hub/models--monologg--kobigbird-bert-base/snapshots/ceacda477e20abef2c929adfa4a07c6f811323be/tokenizer.json\n",
      "loading file added_tokens.json from cache at None\n",
      "loading file special_tokens_map.json from cache at /root/.cache/huggingface/hub/models--monologg--kobigbird-bert-base/snapshots/ceacda477e20abef2c929adfa4a07c6f811323be/special_tokens_map.json\n",
      "loading file tokenizer_config.json from cache at /root/.cache/huggingface/hub/models--monologg--kobigbird-bert-base/snapshots/ceacda477e20abef2c929adfa4a07c6f811323be/tokenizer_config.json\n",
      "loading file vocab.txt from cache at /root/.cache/huggingface/hub/models--monologg--kobigbird-bert-base/snapshots/ceacda477e20abef2c929adfa4a07c6f811323be/vocab.txt\n",
      "loading file tokenizer.json from cache at /root/.cache/huggingface/hub/models--monologg--kobigbird-bert-base/snapshots/ceacda477e20abef2c929adfa4a07c6f811323be/tokenizer.json\n",
      "loading file added_tokens.json from cache at None\n",
      "loading file special_tokens_map.json from cache at /root/.cache/huggingface/hub/models--monologg--kobigbird-bert-base/snapshots/ceacda477e20abef2c929adfa4a07c6f811323be/special_tokens_map.json\n",
      "loading file tokenizer_config.json from cache at /root/.cache/huggingface/hub/models--monologg--kobigbird-bert-base/snapshots/ceacda477e20abef2c929adfa4a07c6f811323be/tokenizer_config.json\n"
     ]
    }
   ],
   "source": [
    "model_name = \"monologg/kobigbird-bert-base\" \n",
    "q_tokenizer = AutoTokenizer.from_pretrained(model_name) \n",
    "p_tokenizer = AutoTokenizer.from_pretrained(model_name)  "
   ]
  },
  {
   "cell_type": "code",
   "execution_count": 9,
   "id": "eca3568e-1a16-4cce-a0f2-555e322ac068",
   "metadata": {},
   "outputs": [
    {
     "data": {
      "text/plain": [
       "((1259, 3), (157, 3), (158, 3))"
      ]
     },
     "execution_count": 9,
     "metadata": {},
     "output_type": "execute_result"
    }
   ],
   "source": [
    "train_size = int(0.8 * all_data.shape[0]) \n",
    "val_size = int(0.1 * all_data.shape[0])  \n",
    "\n",
    "train_df = all_data.iloc[:train_size] \n",
    "val_df = all_data.iloc[train_size:train_size+val_size] \n",
    "test_df = all_data.iloc[train_size+val_size:]  \n",
    "\n",
    "train_df.shape, val_df.shape, test_df.shape "
   ]
  },
  {
   "cell_type": "code",
   "execution_count": 10,
   "id": "77deab1d-6da7-4212-a13e-c4f0c90e2a32",
   "metadata": {},
   "outputs": [
    {
     "data": {
      "text/plain": [
       "((1574, 3), (1574, 3))"
      ]
     },
     "execution_count": 10,
     "metadata": {},
     "output_type": "execute_result"
    }
   ],
   "source": [
    "all_data.shape, all_data.drop_duplicates().shape"
   ]
  },
  {
   "cell_type": "code",
   "execution_count": 11,
   "id": "92d7d119-a167-4b50-b4fc-b92845510934",
   "metadata": {},
   "outputs": [
    {
     "data": {
      "application/vnd.jupyter.widget-view+json": {
       "model_id": "21047d55690243c9925ded6236d81e64",
       "version_major": 2,
       "version_minor": 0
      },
      "text/plain": [
       "  0%|          | 0/1259 [00:00<?, ?it/s]"
      ]
     },
     "metadata": {},
     "output_type": "display_data"
    },
    {
     "data": {
      "application/vnd.jupyter.widget-view+json": {
       "model_id": "a5945d023ebf4ed09420c77c6455f4d1",
       "version_major": 2,
       "version_minor": 0
      },
      "text/plain": [
       "  0%|          | 0/1259 [00:00<?, ?it/s]"
      ]
     },
     "metadata": {},
     "output_type": "display_data"
    },
    {
     "data": {
      "text/plain": [
       "(torch.Size([1259, 512]),\n",
       " torch.Size([1259, 512]),\n",
       " torch.Size([1259, 512]),\n",
       " torch.Size([1259, 512]))"
      ]
     },
     "execution_count": 11,
     "metadata": {},
     "output_type": "execute_result"
    }
   ],
   "source": [
    "train_questions, train_candidates, train_refs = train_df[\"questions\"].values, train_df[\"candidates\"].values, train_df[\"references\"].values \n",
    "\n",
    "q_input_ids, q_attn_masks = [], [] \n",
    "for i in tqdm(range(len(train_questions)), position=0, leave=True): \n",
    "    encoded_inputs = q_tokenizer(str(train_questions[i]), max_length=512, truncation=True, padding=\"max_length\") \n",
    "    q_input_ids.append(encoded_inputs[\"input_ids\"]) \n",
    "    q_attn_masks.append(encoded_inputs[\"attention_mask\"]) \n",
    "\n",
    "c_input_ids, c_attn_masks = [], [] \n",
    "for i in tqdm(range(len(train_candidates)), position=0, leave=True): \n",
    "    encoded_inputs = p_tokenizer(str(train_candidates[i]), max_length=512, truncation=True, padding=\"max_length\") \n",
    "    c_input_ids.append(encoded_inputs[\"input_ids\"]) \n",
    "    c_attn_masks.append(encoded_inputs[\"attention_mask\"]) \n",
    "    \n",
    "q_input_ids = torch.tensor(q_input_ids, dtype=int) \n",
    "q_attn_masks = torch.tensor(q_attn_masks, dtype=int) \n",
    "c_input_ids = torch.tensor(c_input_ids, dtype=int) \n",
    "c_attn_masks = torch.tensor(c_attn_masks, dtype=int) \n",
    "\n",
    "q_input_ids.shape, q_attn_masks.shape, c_input_ids.shape, c_attn_masks.shape "
   ]
  },
  {
   "cell_type": "code",
   "execution_count": 12,
   "id": "8e623a70-363e-4feb-a3c4-1e6266d56f8b",
   "metadata": {},
   "outputs": [
    {
     "data": {
      "application/vnd.jupyter.widget-view+json": {
       "model_id": "b213ed6949d54c44aefde8b9e1681529",
       "version_major": 2,
       "version_minor": 0
      },
      "text/plain": [
       "  0%|          | 0/1574 [00:00<?, ?it/s]"
      ]
     },
     "metadata": {},
     "output_type": "display_data"
    },
    {
     "data": {
      "text/plain": [
       "(torch.Size([1574, 512]), torch.Size([1574, 512]))"
      ]
     },
     "execution_count": 12,
     "metadata": {},
     "output_type": "execute_result"
    }
   ],
   "source": [
    "# prepare all candidate ids\n",
    "candidates = all_data[\"candidates\"].values \n",
    "\n",
    "all_context_input_ids, all_context_attn_masks = [], [] \n",
    "for i in tqdm(range(len(candidates)), position=0, leave=True):\n",
    "    encoded_inputs = p_tokenizer(str(candidates[i]), max_length=512, truncation=True, padding=\"max_length\") \n",
    "    all_context_input_ids.append(encoded_inputs[\"input_ids\"]) \n",
    "    all_context_attn_masks.append(encoded_inputs[\"attention_mask\"]) \n",
    "     \n",
    "all_context_input_ids = torch.tensor(all_context_input_ids, dtype=int) \n",
    "all_context_attn_masks = torch.tensor(all_context_attn_masks, dtype=int)  \n",
    "\n",
    "all_context_input_ids.shape, all_context_attn_masks.shape "
   ]
  },
  {
   "cell_type": "code",
   "execution_count": 13,
   "id": "b2e079d6-99a9-4543-bbef-b30694f14a93",
   "metadata": {},
   "outputs": [
    {
     "name": "stderr",
     "output_type": "stream",
     "text": [
      "loading configuration file config.json from cache at /root/.cache/huggingface/hub/models--monologg--kobigbird-bert-base/snapshots/ceacda477e20abef2c929adfa4a07c6f811323be/config.json\n",
      "Model config BigBirdConfig {\n",
      "  \"_name_or_path\": \"monologg/kobigbird-bert-base\",\n",
      "  \"architectures\": [\n",
      "    \"BigBirdForMaskedLM\"\n",
      "  ],\n",
      "  \"attention_probs_dropout_prob\": 0.1,\n",
      "  \"attention_type\": \"block_sparse\",\n",
      "  \"block_size\": 64,\n",
      "  \"bos_token_id\": 5,\n",
      "  \"classifier_dropout\": null,\n",
      "  \"eos_token_id\": 6,\n",
      "  \"gradient_checkpointing\": false,\n",
      "  \"hidden_act\": \"gelu_new\",\n",
      "  \"hidden_dropout_prob\": 0.1,\n",
      "  \"hidden_size\": 768,\n",
      "  \"initializer_range\": 0.02,\n",
      "  \"intermediate_size\": 3072,\n",
      "  \"layer_norm_eps\": 1e-12,\n",
      "  \"max_position_embeddings\": 4096,\n",
      "  \"model_type\": \"big_bird\",\n",
      "  \"num_attention_heads\": 12,\n",
      "  \"num_hidden_layers\": 12,\n",
      "  \"num_random_blocks\": 3,\n",
      "  \"pad_token_id\": 0,\n",
      "  \"position_embedding_type\": \"absolute\",\n",
      "  \"rescale_embeddings\": false,\n",
      "  \"sep_token_id\": 3,\n",
      "  \"tokenizer_class\": \"BertTokenizer\",\n",
      "  \"torch_dtype\": \"float32\",\n",
      "  \"transformers_version\": \"4.26.1\",\n",
      "  \"type_vocab_size\": 2,\n",
      "  \"use_bias\": true,\n",
      "  \"use_cache\": true,\n",
      "  \"vocab_size\": 32500\n",
      "}\n",
      "\n",
      "loading weights file pytorch_model.bin from cache at /root/.cache/huggingface/hub/models--monologg--kobigbird-bert-base/snapshots/ceacda477e20abef2c929adfa4a07c6f811323be/pytorch_model.bin\n",
      "Some weights of the model checkpoint at monologg/kobigbird-bert-base were not used when initializing BigBirdModel: ['cls.predictions.decoder.bias', 'cls.predictions.transform.LayerNorm.weight', 'cls.seq_relationship.weight', 'cls.predictions.decoder.weight', 'cls.seq_relationship.bias', 'cls.predictions.transform.LayerNorm.bias', 'cls.predictions.transform.dense.weight', 'cls.predictions.transform.dense.bias', 'cls.predictions.bias']\n",
      "- This IS expected if you are initializing BigBirdModel from the checkpoint of a model trained on another task or with another architecture (e.g. initializing a BertForSequenceClassification model from a BertForPreTraining model).\n",
      "- This IS NOT expected if you are initializing BigBirdModel from the checkpoint of a model that you expect to be exactly identical (initializing a BertForSequenceClassification model from a BertForSequenceClassification model).\n",
      "All the weights of BigBirdModel were initialized from the model checkpoint at monologg/kobigbird-bert-base.\n",
      "If your task is similar to the task the model of the checkpoint was trained on, you can already use BigBirdModel for predictions without further training.\n",
      "loading configuration file config.json from cache at /root/.cache/huggingface/hub/models--monologg--kobigbird-bert-base/snapshots/ceacda477e20abef2c929adfa4a07c6f811323be/config.json\n",
      "Model config BigBirdConfig {\n",
      "  \"_name_or_path\": \"monologg/kobigbird-bert-base\",\n",
      "  \"architectures\": [\n",
      "    \"BigBirdForMaskedLM\"\n",
      "  ],\n",
      "  \"attention_probs_dropout_prob\": 0.1,\n",
      "  \"attention_type\": \"block_sparse\",\n",
      "  \"block_size\": 64,\n",
      "  \"bos_token_id\": 5,\n",
      "  \"classifier_dropout\": null,\n",
      "  \"eos_token_id\": 6,\n",
      "  \"gradient_checkpointing\": false,\n",
      "  \"hidden_act\": \"gelu_new\",\n",
      "  \"hidden_dropout_prob\": 0.1,\n",
      "  \"hidden_size\": 768,\n",
      "  \"initializer_range\": 0.02,\n",
      "  \"intermediate_size\": 3072,\n",
      "  \"layer_norm_eps\": 1e-12,\n",
      "  \"max_position_embeddings\": 4096,\n",
      "  \"model_type\": \"big_bird\",\n",
      "  \"num_attention_heads\": 12,\n",
      "  \"num_hidden_layers\": 12,\n",
      "  \"num_random_blocks\": 3,\n",
      "  \"pad_token_id\": 0,\n",
      "  \"position_embedding_type\": \"absolute\",\n",
      "  \"rescale_embeddings\": false,\n",
      "  \"sep_token_id\": 3,\n",
      "  \"tokenizer_class\": \"BertTokenizer\",\n",
      "  \"torch_dtype\": \"float32\",\n",
      "  \"transformers_version\": \"4.26.1\",\n",
      "  \"type_vocab_size\": 2,\n",
      "  \"use_bias\": true,\n",
      "  \"use_cache\": true,\n",
      "  \"vocab_size\": 32500\n",
      "}\n",
      "\n",
      "loading weights file pytorch_model.bin from cache at /root/.cache/huggingface/hub/models--monologg--kobigbird-bert-base/snapshots/ceacda477e20abef2c929adfa4a07c6f811323be/pytorch_model.bin\n",
      "Some weights of the model checkpoint at monologg/kobigbird-bert-base were not used when initializing BigBirdModel: ['cls.predictions.decoder.bias', 'cls.predictions.transform.LayerNorm.weight', 'cls.seq_relationship.weight', 'cls.predictions.decoder.weight', 'cls.seq_relationship.bias', 'cls.predictions.transform.LayerNorm.bias', 'cls.predictions.transform.dense.weight', 'cls.predictions.transform.dense.bias', 'cls.predictions.bias']\n",
      "- This IS expected if you are initializing BigBirdModel from the checkpoint of a model trained on another task or with another architecture (e.g. initializing a BertForSequenceClassification model from a BertForPreTraining model).\n",
      "- This IS NOT expected if you are initializing BigBirdModel from the checkpoint of a model that you expect to be exactly identical (initializing a BertForSequenceClassification model from a BertForSequenceClassification model).\n",
      "All the weights of BigBirdModel were initialized from the model checkpoint at monologg/kobigbird-bert-base.\n",
      "If your task is similar to the task the model of the checkpoint was trained on, you can already use BigBirdModel for predictions without further training.\n"
     ]
    },
    {
     "data": {
      "text/plain": [
       "<All keys matched successfully>"
      ]
     },
     "execution_count": 13,
     "metadata": {},
     "output_type": "execute_result"
    }
   ],
   "source": [
    "best_recall = 0 \n",
    "\n",
    "train_dataset = TensorDataset(q_input_ids, q_attn_masks, c_input_ids, c_attn_masks) \n",
    "train_sampler = RandomSampler(train_dataset) \n",
    "train_dataloader = DataLoader(train_dataset, sampler=train_sampler, batch_size=32) \n",
    "\n",
    "num_train_epochs = 10 \n",
    "device = torch.device(\"cuda\" if torch.cuda.is_available() else \"cpu\")  \n",
    "\n",
    "q_encoder = AutoModel.from_pretrained(\"monologg/kobigbird-bert-base\") \n",
    "q_encoder.to(device) \n",
    "checkpoint = torch.load(\"KoBigBird_query_encoder__.pt\")\n",
    "q_encoder.load_state_dict(checkpoint) \n",
    "\n",
    "p_encoder = AutoModel.from_pretrained(\"monologg/kobigbird-bert-base\") \n",
    "p_encoder.to(device) \n",
    "checkpoint = torch.load(\"KoBigBird_passage_encoder__.pt\")\n",
    "p_encoder.load_state_dict(checkpoint) "
   ]
  },
  {
   "cell_type": "code",
   "execution_count": 33,
   "id": "084e8966-934a-4d25-ae5a-a450b615c803",
   "metadata": {},
   "outputs": [
    {
     "name": "stderr",
     "output_type": "stream",
     "text": [
      "/opt/conda/lib/python3.8/site-packages/transformers/optimization.py:306: FutureWarning: This implementation of AdamW is deprecated and will be removed in a future version. Use the PyTorch implementation torch.optim.AdamW instead, or set `no_deprecation_warning=True` to disable this warning\n",
      "  warnings.warn(\n"
     ]
    }
   ],
   "source": [
    "params = list(q_encoder.parameters()) + list(p_encoder.parameters())  \n",
    "optimizer = AdamW(params, lr=2e-5, eps=1e-8)  \n",
    "t_total = len(train_dataloader) * num_train_epochs \n",
    "q_encoder.zero_grad()  \n",
    "p_encoder.zero_grad()  \n",
    "torch.cuda.empty_cache() \n",
    "scheduler = get_linear_schedule_with_warmup(optimizer, num_warmup_steps=int(0.05 * t_total), num_training_steps=t_total) "
   ]
  },
  {
   "cell_type": "code",
   "execution_count": 34,
   "id": "249bedb8-5754-4981-bf0e-1df92f3baf4f",
   "metadata": {},
   "outputs": [
    {
     "data": {
      "application/vnd.jupyter.widget-view+json": {
       "model_id": "edc62c2c64544ea783932ac0c7d7478f",
       "version_major": 2,
       "version_minor": 0
      },
      "text/plain": [
       "Epochs:   0%|          | 0/10 [00:00<?, ?it/s]"
      ]
     },
     "metadata": {},
     "output_type": "display_data"
    },
    {
     "data": {
      "application/vnd.jupyter.widget-view+json": {
       "model_id": "c584825455974ec5a0baf0380dde43e0",
       "version_major": 2,
       "version_minor": 0
      },
      "text/plain": [
       "  0%|          | 0/40 [00:00<?, ?batch/s]"
      ]
     },
     "metadata": {},
     "output_type": "display_data"
    },
    {
     "name": "stderr",
     "output_type": "stream",
     "text": [
      "Attention type 'block_sparse' is not possible if sequence_length: 512 <= num global tokens: 2 * config.block_size + min. num sliding tokens: 3 * config.block_size + config.num_random_blocks * config.block_size + additional buffer: config.num_random_blocks * config.block_size = 704 with config.block_size = 64, config.num_random_blocks = 3. Changing attention type to 'original_full'...\n",
      "Attention type 'block_sparse' is not possible if sequence_length: 512 <= num global tokens: 2 * config.block_size + min. num sliding tokens: 3 * config.block_size + config.num_random_blocks * config.block_size + additional buffer: config.num_random_blocks * config.block_size = 704 with config.block_size = 64, config.num_random_blocks = 3. Changing attention type to 'original_full'...\n"
     ]
    },
    {
     "name": "stdout",
     "output_type": "stream",
     "text": [
      "avg train loss : 0.12161272692028433\n",
      "validating\n"
     ]
    },
    {
     "data": {
      "application/vnd.jupyter.widget-view+json": {
       "model_id": "bfa9ff49b467474d8c0085bc1457bd31",
       "version_major": 2,
       "version_minor": 0
      },
      "text/plain": [
       "calculating candidate embeddings with current model:   0%|          | 0/25 [00:00<?, ?it/s]"
      ]
     },
     "metadata": {},
     "output_type": "display_data"
    },
    {
     "name": "stdout",
     "output_type": "stream",
     "text": [
      "candidate embeddings shape: torch.Size([1574, 768])\n"
     ]
    },
    {
     "data": {
      "application/vnd.jupyter.widget-view+json": {
       "model_id": "e0e2ea9521944d41af95e2243529fe70",
       "version_major": 2,
       "version_minor": 0
      },
      "text/plain": [
       "calculating Recall@50:   0%|          | 0/157 [00:00<?, ?it/s]"
      ]
     },
     "metadata": {},
     "output_type": "display_data"
    },
    {
     "name": "stdout",
     "output_type": "stream",
     "text": [
      "mean recall@50 : 1.0\n",
      "saving best checkpoint so far!\n"
     ]
    },
    {
     "data": {
      "application/vnd.jupyter.widget-view+json": {
       "model_id": "715bb7b503e1439cb474a8014cbc9aa5",
       "version_major": 2,
       "version_minor": 0
      },
      "text/plain": [
       "  0%|          | 0/40 [00:00<?, ?batch/s]"
      ]
     },
     "metadata": {},
     "output_type": "display_data"
    },
    {
     "name": "stdout",
     "output_type": "stream",
     "text": [
      "avg train loss : 0.042825025173078755\n",
      "validating\n"
     ]
    },
    {
     "data": {
      "application/vnd.jupyter.widget-view+json": {
       "model_id": "2d44cd061b0b495390630fb8a7da248a",
       "version_major": 2,
       "version_minor": 0
      },
      "text/plain": [
       "calculating candidate embeddings with current model:   0%|          | 0/25 [00:00<?, ?it/s]"
      ]
     },
     "metadata": {},
     "output_type": "display_data"
    },
    {
     "name": "stdout",
     "output_type": "stream",
     "text": [
      "candidate embeddings shape: torch.Size([1574, 768])\n"
     ]
    },
    {
     "data": {
      "application/vnd.jupyter.widget-view+json": {
       "model_id": "d6c28dd7bba4432c9e6f0f20f5dc86c0",
       "version_major": 2,
       "version_minor": 0
      },
      "text/plain": [
       "calculating Recall@50:   0%|          | 0/157 [00:00<?, ?it/s]"
      ]
     },
     "metadata": {},
     "output_type": "display_data"
    },
    {
     "name": "stdout",
     "output_type": "stream",
     "text": [
      "mean recall@50 : 1.0\n"
     ]
    },
    {
     "data": {
      "application/vnd.jupyter.widget-view+json": {
       "model_id": "ed60b57b7d4041d4b87779f8ffa0a2cb",
       "version_major": 2,
       "version_minor": 0
      },
      "text/plain": [
       "  0%|          | 0/40 [00:00<?, ?batch/s]"
      ]
     },
     "metadata": {},
     "output_type": "display_data"
    },
    {
     "name": "stdout",
     "output_type": "stream",
     "text": [
      "avg train loss : 0.023852204500872175\n",
      "validating\n"
     ]
    },
    {
     "data": {
      "application/vnd.jupyter.widget-view+json": {
       "model_id": "9f61177c1ff4427f88d02293828b3fd4",
       "version_major": 2,
       "version_minor": 0
      },
      "text/plain": [
       "calculating candidate embeddings with current model:   0%|          | 0/25 [00:00<?, ?it/s]"
      ]
     },
     "metadata": {},
     "output_type": "display_data"
    },
    {
     "name": "stdout",
     "output_type": "stream",
     "text": [
      "candidate embeddings shape: torch.Size([1574, 768])\n"
     ]
    },
    {
     "data": {
      "application/vnd.jupyter.widget-view+json": {
       "model_id": "72d3e2a209154253918bb56192934299",
       "version_major": 2,
       "version_minor": 0
      },
      "text/plain": [
       "calculating Recall@50:   0%|          | 0/157 [00:00<?, ?it/s]"
      ]
     },
     "metadata": {},
     "output_type": "display_data"
    },
    {
     "name": "stdout",
     "output_type": "stream",
     "text": [
      "mean recall@50 : 1.0\n"
     ]
    },
    {
     "data": {
      "application/vnd.jupyter.widget-view+json": {
       "model_id": "bd442662ba634e6686ccdcb610698484",
       "version_major": 2,
       "version_minor": 0
      },
      "text/plain": [
       "  0%|          | 0/40 [00:00<?, ?batch/s]"
      ]
     },
     "metadata": {},
     "output_type": "display_data"
    },
    {
     "name": "stdout",
     "output_type": "stream",
     "text": [
      "avg train loss : 0.025598472804267657\n",
      "validating\n"
     ]
    },
    {
     "data": {
      "application/vnd.jupyter.widget-view+json": {
       "model_id": "e85194b58285400ab37dfa9fc2d1b490",
       "version_major": 2,
       "version_minor": 0
      },
      "text/plain": [
       "calculating candidate embeddings with current model:   0%|          | 0/25 [00:00<?, ?it/s]"
      ]
     },
     "metadata": {},
     "output_type": "display_data"
    },
    {
     "name": "stdout",
     "output_type": "stream",
     "text": [
      "candidate embeddings shape: torch.Size([1574, 768])\n"
     ]
    },
    {
     "data": {
      "application/vnd.jupyter.widget-view+json": {
       "model_id": "d7ca3e5a354b498b86781f57ade41761",
       "version_major": 2,
       "version_minor": 0
      },
      "text/plain": [
       "calculating Recall@50:   0%|          | 0/157 [00:00<?, ?it/s]"
      ]
     },
     "metadata": {},
     "output_type": "display_data"
    },
    {
     "name": "stdout",
     "output_type": "stream",
     "text": [
      "mean recall@50 : 1.0\n"
     ]
    },
    {
     "data": {
      "application/vnd.jupyter.widget-view+json": {
       "model_id": "0f553663dedf41569afc7fc4a4d97ee6",
       "version_major": 2,
       "version_minor": 0
      },
      "text/plain": [
       "  0%|          | 0/40 [00:00<?, ?batch/s]"
      ]
     },
     "metadata": {},
     "output_type": "display_data"
    },
    {
     "name": "stdout",
     "output_type": "stream",
     "text": [
      "avg train loss : 0.022329960159549956\n",
      "validating\n"
     ]
    },
    {
     "data": {
      "application/vnd.jupyter.widget-view+json": {
       "model_id": "442ded1641294b15b2a028ec8823e65d",
       "version_major": 2,
       "version_minor": 0
      },
      "text/plain": [
       "calculating candidate embeddings with current model:   0%|          | 0/25 [00:00<?, ?it/s]"
      ]
     },
     "metadata": {},
     "output_type": "display_data"
    },
    {
     "name": "stdout",
     "output_type": "stream",
     "text": [
      "candidate embeddings shape: torch.Size([1574, 768])\n"
     ]
    },
    {
     "data": {
      "application/vnd.jupyter.widget-view+json": {
       "model_id": "f31e0d035989479e8ab11b70085596de",
       "version_major": 2,
       "version_minor": 0
      },
      "text/plain": [
       "calculating Recall@50:   0%|          | 0/157 [00:00<?, ?it/s]"
      ]
     },
     "metadata": {},
     "output_type": "display_data"
    },
    {
     "name": "stdout",
     "output_type": "stream",
     "text": [
      "mean recall@50 : 1.0\n"
     ]
    },
    {
     "data": {
      "application/vnd.jupyter.widget-view+json": {
       "model_id": "f569c612e216465b83beafa859829909",
       "version_major": 2,
       "version_minor": 0
      },
      "text/plain": [
       "  0%|          | 0/40 [00:00<?, ?batch/s]"
      ]
     },
     "metadata": {},
     "output_type": "display_data"
    },
    {
     "name": "stdout",
     "output_type": "stream",
     "text": [
      "avg train loss : 0.01358198981051828\n",
      "validating\n"
     ]
    },
    {
     "data": {
      "application/vnd.jupyter.widget-view+json": {
       "model_id": "aa71e02d36a046dab9161ad493f2b572",
       "version_major": 2,
       "version_minor": 0
      },
      "text/plain": [
       "calculating candidate embeddings with current model:   0%|          | 0/25 [00:00<?, ?it/s]"
      ]
     },
     "metadata": {},
     "output_type": "display_data"
    },
    {
     "name": "stdout",
     "output_type": "stream",
     "text": [
      "candidate embeddings shape: torch.Size([1574, 768])\n"
     ]
    },
    {
     "data": {
      "application/vnd.jupyter.widget-view+json": {
       "model_id": "0a270d65be66498c926ec06e8c209862",
       "version_major": 2,
       "version_minor": 0
      },
      "text/plain": [
       "calculating Recall@50:   0%|          | 0/157 [00:00<?, ?it/s]"
      ]
     },
     "metadata": {},
     "output_type": "display_data"
    },
    {
     "name": "stdout",
     "output_type": "stream",
     "text": [
      "mean recall@50 : 1.0\n"
     ]
    },
    {
     "data": {
      "application/vnd.jupyter.widget-view+json": {
       "model_id": "a7b3560abb4c4c89ba80d04aae26311d",
       "version_major": 2,
       "version_minor": 0
      },
      "text/plain": [
       "  0%|          | 0/40 [00:00<?, ?batch/s]"
      ]
     },
     "metadata": {},
     "output_type": "display_data"
    },
    {
     "name": "stdout",
     "output_type": "stream",
     "text": [
      "avg train loss : 0.009980874220491386\n",
      "validating\n"
     ]
    },
    {
     "data": {
      "application/vnd.jupyter.widget-view+json": {
       "model_id": "39fe1f3a920942038afb6095de3adc31",
       "version_major": 2,
       "version_minor": 0
      },
      "text/plain": [
       "calculating candidate embeddings with current model:   0%|          | 0/25 [00:00<?, ?it/s]"
      ]
     },
     "metadata": {},
     "output_type": "display_data"
    },
    {
     "name": "stdout",
     "output_type": "stream",
     "text": [
      "candidate embeddings shape: torch.Size([1574, 768])\n"
     ]
    },
    {
     "data": {
      "application/vnd.jupyter.widget-view+json": {
       "model_id": "49bbea1ebe1449bca9211b629f3afc16",
       "version_major": 2,
       "version_minor": 0
      },
      "text/plain": [
       "calculating Recall@50:   0%|          | 0/157 [00:00<?, ?it/s]"
      ]
     },
     "metadata": {},
     "output_type": "display_data"
    },
    {
     "name": "stdout",
     "output_type": "stream",
     "text": [
      "mean recall@50 : 1.0\n"
     ]
    },
    {
     "data": {
      "application/vnd.jupyter.widget-view+json": {
       "model_id": "44752a62fb8840898e5e9c23dcb06bb6",
       "version_major": 2,
       "version_minor": 0
      },
      "text/plain": [
       "  0%|          | 0/40 [00:00<?, ?batch/s]"
      ]
     },
     "metadata": {},
     "output_type": "display_data"
    },
    {
     "name": "stdout",
     "output_type": "stream",
     "text": [
      "avg train loss : 0.01044941825712158\n",
      "validating\n"
     ]
    },
    {
     "data": {
      "application/vnd.jupyter.widget-view+json": {
       "model_id": "b91fcb9dab964c6f99e16db9e00f1a10",
       "version_major": 2,
       "version_minor": 0
      },
      "text/plain": [
       "calculating candidate embeddings with current model:   0%|          | 0/25 [00:00<?, ?it/s]"
      ]
     },
     "metadata": {},
     "output_type": "display_data"
    },
    {
     "name": "stdout",
     "output_type": "stream",
     "text": [
      "candidate embeddings shape: torch.Size([1574, 768])\n"
     ]
    },
    {
     "data": {
      "application/vnd.jupyter.widget-view+json": {
       "model_id": "9f2523b62f0a4dfbbcff5a9892b4844d",
       "version_major": 2,
       "version_minor": 0
      },
      "text/plain": [
       "calculating Recall@50:   0%|          | 0/157 [00:00<?, ?it/s]"
      ]
     },
     "metadata": {},
     "output_type": "display_data"
    },
    {
     "name": "stdout",
     "output_type": "stream",
     "text": [
      "mean recall@50 : 1.0\n"
     ]
    },
    {
     "data": {
      "application/vnd.jupyter.widget-view+json": {
       "model_id": "934704ba9f454e07b5ff4126d5c12539",
       "version_major": 2,
       "version_minor": 0
      },
      "text/plain": [
       "  0%|          | 0/40 [00:00<?, ?batch/s]"
      ]
     },
     "metadata": {},
     "output_type": "display_data"
    },
    {
     "name": "stdout",
     "output_type": "stream",
     "text": [
      "avg train loss : 0.015922761991532752\n",
      "validating\n"
     ]
    },
    {
     "data": {
      "application/vnd.jupyter.widget-view+json": {
       "model_id": "77ffb97d22e74150b165e6bd51d1097f",
       "version_major": 2,
       "version_minor": 0
      },
      "text/plain": [
       "calculating candidate embeddings with current model:   0%|          | 0/25 [00:00<?, ?it/s]"
      ]
     },
     "metadata": {},
     "output_type": "display_data"
    },
    {
     "name": "stdout",
     "output_type": "stream",
     "text": [
      "candidate embeddings shape: torch.Size([1574, 768])\n"
     ]
    },
    {
     "data": {
      "application/vnd.jupyter.widget-view+json": {
       "model_id": "c708d8eb56a94d619ae3196ebfe4968e",
       "version_major": 2,
       "version_minor": 0
      },
      "text/plain": [
       "calculating Recall@50:   0%|          | 0/157 [00:00<?, ?it/s]"
      ]
     },
     "metadata": {},
     "output_type": "display_data"
    },
    {
     "name": "stdout",
     "output_type": "stream",
     "text": [
      "mean recall@50 : 1.0\n"
     ]
    },
    {
     "data": {
      "application/vnd.jupyter.widget-view+json": {
       "model_id": "5c3b1cd0d046490095ae9efcedc2410b",
       "version_major": 2,
       "version_minor": 0
      },
      "text/plain": [
       "  0%|          | 0/40 [00:00<?, ?batch/s]"
      ]
     },
     "metadata": {},
     "output_type": "display_data"
    },
    {
     "name": "stdout",
     "output_type": "stream",
     "text": [
      "avg train loss : 0.009178900104234344\n",
      "validating\n"
     ]
    },
    {
     "data": {
      "application/vnd.jupyter.widget-view+json": {
       "model_id": "9252d03d69874277bac794e653352b58",
       "version_major": 2,
       "version_minor": 0
      },
      "text/plain": [
       "calculating candidate embeddings with current model:   0%|          | 0/25 [00:00<?, ?it/s]"
      ]
     },
     "metadata": {},
     "output_type": "display_data"
    },
    {
     "name": "stdout",
     "output_type": "stream",
     "text": [
      "candidate embeddings shape: torch.Size([1574, 768])\n"
     ]
    },
    {
     "data": {
      "application/vnd.jupyter.widget-view+json": {
       "model_id": "725202ed1ea54d8d931170d3b2aba55d",
       "version_major": 2,
       "version_minor": 0
      },
      "text/plain": [
       "calculating Recall@50:   0%|          | 0/157 [00:00<?, ?it/s]"
      ]
     },
     "metadata": {},
     "output_type": "display_data"
    },
    {
     "name": "stdout",
     "output_type": "stream",
     "text": [
      "mean recall@50 : 1.0\n",
      "best recall: 1.0\n",
      "done training!\n"
     ]
    }
   ],
   "source": [
    "for epoch_i in tqdm(range(0, num_train_epochs), desc=\"Epochs\", position=0, leave=True, total=num_train_epochs): \n",
    "    train_loss = 0\n",
    "    q_encoder.train() \n",
    "    p_encoder.train() \n",
    "    with tqdm(train_dataloader, unit=\"batch\") as tepoch: \n",
    "        for step, batch in enumerate(tepoch): \n",
    "            batch = tuple(t.to(device) for t in batch) \n",
    "            bq_input_ids, bq_attn_masks, bp_input_ids, bp_attn_masks = batch \n",
    "            q_outputs = q_encoder(bq_input_ids, bq_attn_masks).pooler_output \n",
    "            p_outputs = p_encoder(bp_input_ids, bp_attn_masks).pooler_output \n",
    "            # (batch_size * embedding_dims) * (embedding_dims * batch_size) \n",
    "            sim_scores = torch.matmul(q_outputs, torch.transpose(p_outputs, 0, 1)) \n",
    "            targets = torch.arange(0, q_outputs.shape[0]).long().to(device) \n",
    "            sim_scores = F.log_softmax(sim_scores, dim=1) \n",
    "            loss = F.nll_loss(sim_scores, targets)  \n",
    "            train_loss += loss.item() \n",
    "            loss.backward() \n",
    "            optimizer.step() \n",
    "            scheduler.step() \n",
    "            q_encoder.zero_grad() \n",
    "            p_encoder.zero_grad()  \n",
    "            tepoch.set_postfix(loss=train_loss / (step+1))  \n",
    "            time.sleep(0.1) \n",
    "    avg_train_loss = train_loss / len(train_dataloader)  \n",
    "    print(f\"avg train loss : {avg_train_loss}\") \n",
    "    \n",
    "    val_loss = 0\n",
    "    print(\"validating\") \n",
    "    with torch.no_grad(): \n",
    "        p_encoder.eval() \n",
    "        p_embs = [] \n",
    "        inference_dataset = TensorDataset(all_context_input_ids, all_context_attn_masks)\n",
    "        inference_sampler = SequentialSampler(inference_dataset) \n",
    "        inference_dataloader = DataLoader(inference_dataset, sampler=inference_sampler, batch_size=64)\n",
    "        for step, batch in tqdm(enumerate(inference_dataloader), position=0, leave=True, total=len(inference_dataloader), desc=\"calculating candidate embeddings with current model\"):\n",
    "            batch = (t.to(device) for t in batch) \n",
    "            b_input_ids, b_attn_masks = batch \n",
    "            p_emb = p_encoder(b_input_ids, b_attn_masks).pooler_output \n",
    "            for i in range(p_emb.shape[0]): \n",
    "                p_embs.append(torch.reshape(p_emb[i], (-1, 768))) \n",
    "        # p_embs = torch.Tensor(p_embs).squeeze() \n",
    "        p_embs = torch.cat(p_embs, dim=0) \n",
    "        print(f\"candidate embeddings shape: {p_embs.shape}\")  \n",
    "        top_50 = 0 \n",
    "        q_encoder.eval()\n",
    "        val_questions = val_df[\"questions\"].values \n",
    "        for sample_idx in tqdm(range(len(val_questions)), position=0, leave=True, desc=\"calculating Recall@50\"):\n",
    "            query = val_questions[sample_idx] \n",
    "            encoded_query = q_tokenizer(str(query), max_length=512, truncation=True, padding=\"max_length\", return_tensors=\"pt\").to(device) \n",
    "            q_emb = q_encoder(**encoded_query).pooler_output \n",
    "            dot_prod_scores = torch.matmul(q_emb, torch.transpose(p_embs, 0, 1)) \n",
    "            rank = torch.argsort(dot_prod_scores, dim=1, descending=True).squeeze()\n",
    "            correct_idx = [query_index_dict[query]] # we only have a single correct index in this case  \n",
    "            cnt = 0\n",
    "            for idx in correct_idx: \n",
    "                if idx in rank[:50]: \n",
    "                    cnt += 1 \n",
    "            top_50 += cnt / len(correct_idx) \n",
    "    avg_top50 = top_50 / len(val_questions) \n",
    "    print(f\"mean recall@50 : {avg_top50}\")\n",
    "    if avg_top50 > best_recall: \n",
    "        print(\"saving best checkpoint so far!\") \n",
    "        best_recall = avg_top50 \n",
    "        torch.save(q_encoder.state_dict(), \"law_KoBigBird_query_encoder.pt\") \n",
    "        torch.save(p_encoder.state_dict(), \"law_KoBigBird_passage_encoder.pt\") \n",
    "\n",
    "print(f\"best recall: {best_recall}\") \n",
    "print(\"done training!\") "
   ]
  },
  {
   "cell_type": "markdown",
   "id": "b5fa3fb4-034d-4970-bd98-2db8aa731143",
   "metadata": {},
   "source": [
    "# Testing"
   ]
  },
  {
   "cell_type": "code",
   "execution_count": 13,
   "id": "b8db92b4-671b-4185-bacf-22e90e2f58d0",
   "metadata": {},
   "outputs": [
    {
     "name": "stderr",
     "output_type": "stream",
     "text": [
      "loading configuration file config.json from cache at /root/.cache/huggingface/hub/models--monologg--kobigbird-bert-base/snapshots/ceacda477e20abef2c929adfa4a07c6f811323be/config.json\n",
      "Model config BigBirdConfig {\n",
      "  \"_name_or_path\": \"monologg/kobigbird-bert-base\",\n",
      "  \"architectures\": [\n",
      "    \"BigBirdForMaskedLM\"\n",
      "  ],\n",
      "  \"attention_probs_dropout_prob\": 0.1,\n",
      "  \"attention_type\": \"block_sparse\",\n",
      "  \"block_size\": 64,\n",
      "  \"bos_token_id\": 5,\n",
      "  \"classifier_dropout\": null,\n",
      "  \"eos_token_id\": 6,\n",
      "  \"gradient_checkpointing\": false,\n",
      "  \"hidden_act\": \"gelu_new\",\n",
      "  \"hidden_dropout_prob\": 0.1,\n",
      "  \"hidden_size\": 768,\n",
      "  \"initializer_range\": 0.02,\n",
      "  \"intermediate_size\": 3072,\n",
      "  \"layer_norm_eps\": 1e-12,\n",
      "  \"max_position_embeddings\": 4096,\n",
      "  \"model_type\": \"big_bird\",\n",
      "  \"num_attention_heads\": 12,\n",
      "  \"num_hidden_layers\": 12,\n",
      "  \"num_random_blocks\": 3,\n",
      "  \"pad_token_id\": 0,\n",
      "  \"position_embedding_type\": \"absolute\",\n",
      "  \"rescale_embeddings\": false,\n",
      "  \"sep_token_id\": 3,\n",
      "  \"tokenizer_class\": \"BertTokenizer\",\n",
      "  \"torch_dtype\": \"float32\",\n",
      "  \"transformers_version\": \"4.26.1\",\n",
      "  \"type_vocab_size\": 2,\n",
      "  \"use_bias\": true,\n",
      "  \"use_cache\": true,\n",
      "  \"vocab_size\": 32500\n",
      "}\n",
      "\n",
      "loading weights file pytorch_model.bin from cache at /root/.cache/huggingface/hub/models--monologg--kobigbird-bert-base/snapshots/ceacda477e20abef2c929adfa4a07c6f811323be/pytorch_model.bin\n",
      "Some weights of the model checkpoint at monologg/kobigbird-bert-base were not used when initializing BigBirdModel: ['cls.seq_relationship.weight', 'cls.predictions.bias', 'cls.predictions.decoder.weight', 'cls.predictions.transform.LayerNorm.bias', 'cls.predictions.transform.LayerNorm.weight', 'cls.predictions.transform.dense.weight', 'cls.predictions.transform.dense.bias', 'cls.seq_relationship.bias', 'cls.predictions.decoder.bias']\n",
      "- This IS expected if you are initializing BigBirdModel from the checkpoint of a model trained on another task or with another architecture (e.g. initializing a BertForSequenceClassification model from a BertForPreTraining model).\n",
      "- This IS NOT expected if you are initializing BigBirdModel from the checkpoint of a model that you expect to be exactly identical (initializing a BertForSequenceClassification model from a BertForSequenceClassification model).\n",
      "All the weights of BigBirdModel were initialized from the model checkpoint at monologg/kobigbird-bert-base.\n",
      "If your task is similar to the task the model of the checkpoint was trained on, you can already use BigBirdModel for predictions without further training.\n",
      "loading configuration file config.json from cache at /root/.cache/huggingface/hub/models--monologg--kobigbird-bert-base/snapshots/ceacda477e20abef2c929adfa4a07c6f811323be/config.json\n",
      "Model config BigBirdConfig {\n",
      "  \"_name_or_path\": \"monologg/kobigbird-bert-base\",\n",
      "  \"architectures\": [\n",
      "    \"BigBirdForMaskedLM\"\n",
      "  ],\n",
      "  \"attention_probs_dropout_prob\": 0.1,\n",
      "  \"attention_type\": \"block_sparse\",\n",
      "  \"block_size\": 64,\n",
      "  \"bos_token_id\": 5,\n",
      "  \"classifier_dropout\": null,\n",
      "  \"eos_token_id\": 6,\n",
      "  \"gradient_checkpointing\": false,\n",
      "  \"hidden_act\": \"gelu_new\",\n",
      "  \"hidden_dropout_prob\": 0.1,\n",
      "  \"hidden_size\": 768,\n",
      "  \"initializer_range\": 0.02,\n",
      "  \"intermediate_size\": 3072,\n",
      "  \"layer_norm_eps\": 1e-12,\n",
      "  \"max_position_embeddings\": 4096,\n",
      "  \"model_type\": \"big_bird\",\n",
      "  \"num_attention_heads\": 12,\n",
      "  \"num_hidden_layers\": 12,\n",
      "  \"num_random_blocks\": 3,\n",
      "  \"pad_token_id\": 0,\n",
      "  \"position_embedding_type\": \"absolute\",\n",
      "  \"rescale_embeddings\": false,\n",
      "  \"sep_token_id\": 3,\n",
      "  \"tokenizer_class\": \"BertTokenizer\",\n",
      "  \"torch_dtype\": \"float32\",\n",
      "  \"transformers_version\": \"4.26.1\",\n",
      "  \"type_vocab_size\": 2,\n",
      "  \"use_bias\": true,\n",
      "  \"use_cache\": true,\n",
      "  \"vocab_size\": 32500\n",
      "}\n",
      "\n",
      "loading weights file pytorch_model.bin from cache at /root/.cache/huggingface/hub/models--monologg--kobigbird-bert-base/snapshots/ceacda477e20abef2c929adfa4a07c6f811323be/pytorch_model.bin\n"
     ]
    },
    {
     "name": "stdout",
     "output_type": "stream",
     "text": [
      "<All keys matched successfully>\n"
     ]
    },
    {
     "name": "stderr",
     "output_type": "stream",
     "text": [
      "Some weights of the model checkpoint at monologg/kobigbird-bert-base were not used when initializing BigBirdModel: ['cls.seq_relationship.weight', 'cls.predictions.bias', 'cls.predictions.decoder.weight', 'cls.predictions.transform.LayerNorm.bias', 'cls.predictions.transform.LayerNorm.weight', 'cls.predictions.transform.dense.weight', 'cls.predictions.transform.dense.bias', 'cls.seq_relationship.bias', 'cls.predictions.decoder.bias']\n",
      "- This IS expected if you are initializing BigBirdModel from the checkpoint of a model trained on another task or with another architecture (e.g. initializing a BertForSequenceClassification model from a BertForPreTraining model).\n",
      "- This IS NOT expected if you are initializing BigBirdModel from the checkpoint of a model that you expect to be exactly identical (initializing a BertForSequenceClassification model from a BertForSequenceClassification model).\n",
      "All the weights of BigBirdModel were initialized from the model checkpoint at monologg/kobigbird-bert-base.\n",
      "If your task is similar to the task the model of the checkpoint was trained on, you can already use BigBirdModel for predictions without further training.\n"
     ]
    },
    {
     "name": "stdout",
     "output_type": "stream",
     "text": [
      "<All keys matched successfully>\n",
      "\n"
     ]
    }
   ],
   "source": [
    "device = torch.device(\"cuda:0\" if torch.cuda.is_available() else \"cpu\") \n",
    "\n",
    "best_q_chkpt = torch.load(\"law_KoBigBird_query_encoder.pt\")\n",
    "best_p_chkpt = torch.load(\"law_KoBigBird_passage_encoder.pt\")\n",
    "\n",
    "q_encoder = AutoModel.from_pretrained(\"monologg/kobigbird-bert-base\") \n",
    "q_encoder.to(device) \n",
    "print(q_encoder.load_state_dict(best_q_chkpt)) \n",
    "\n",
    "p_encoder = AutoModel.from_pretrained(\"monologg/kobigbird-bert-base\") \n",
    "p_encoder.to(device) \n",
    "print(p_encoder.load_state_dict(best_p_chkpt)) \n",
    "\n",
    "print()  "
   ]
  },
  {
   "cell_type": "code",
   "execution_count": 18,
   "id": "fc91702f-e853-461d-9d90-123953dba3d0",
   "metadata": {},
   "outputs": [
    {
     "data": {
      "application/vnd.jupyter.widget-view+json": {
       "model_id": "9b8b504d36c842908265c5616de85b13",
       "version_major": 2,
       "version_minor": 0
      },
      "text/plain": [
       "  0%|          | 0/50 [00:00<?, ?it/s]"
      ]
     },
     "metadata": {},
     "output_type": "display_data"
    },
    {
     "name": "stdout",
     "output_type": "stream",
     "text": [
      "candidate embeddings shape : torch.Size([1574, 768])\n"
     ]
    },
    {
     "data": {
      "application/vnd.jupyter.widget-view+json": {
       "model_id": "1fd5a348b3a54bb39eb8bf94a01d1863",
       "version_major": 2,
       "version_minor": 0
      },
      "text/plain": [
       "Calculating Recall:   0%|          | 0/158 [00:00<?, ?it/s]"
      ]
     },
     "metadata": {},
     "output_type": "display_data"
    },
    {
     "name": "stdout",
     "output_type": "stream",
     "text": [
      "RECALL@1:0.879746835443038 | RECALL@5:0.9810126582278481 | RECALL@10:0.9873417721518988 | RECALL@20:1.0 | RECALL@50:1.0\n"
     ]
    }
   ],
   "source": [
    "top50_answers = []\n",
    "\n",
    "with torch.no_grad(): \n",
    "    p_encoder.eval() \n",
    "    q_encoder.eval() \n",
    "    p_embs = [] \n",
    "\n",
    "    inference_dataset = TensorDataset(all_context_input_ids, all_context_attn_masks) \n",
    "    inference_sampler = SequentialSampler(inference_dataset)\n",
    "    inference_dataloader = DataLoader(inference_dataset, sampler=inference_sampler, batch_size=32) \n",
    "\n",
    "    for step, batch in tqdm(enumerate(inference_dataloader), position=0, leave=True, total=len(inference_dataloader)): \n",
    "        batch = (t.to(device) for t in batch)\n",
    "        b_input_ids, b_attn_masks = batch \n",
    "        p_emb = p_encoder(b_input_ids, b_attn_masks).pooler_output \n",
    "        for i in range(p_emb.shape[0]): \n",
    "            p_embs.append(torch.reshape(p_emb[i], (-1, 768))) \n",
    "\n",
    "    p_embs = torch.cat(p_embs, dim=0)\n",
    "    print(f\"candidate embeddings shape : {p_embs.shape}\") \n",
    "    \n",
    "    top_1, top_5, top_10, top_20, top_50 = 0, 0, 0, 0, 0 \n",
    "    test_questions = test_df[\"questions\"].values \n",
    "    for sample_idx in tqdm(range(len(test_questions)), position=0, leave=True, desc=\"Calculating Recall\"):\n",
    "        query = test_questions[sample_idx] \n",
    "        encoded_query = q_tokenizer(str(query), max_length=512, truncation=True, padding=\"max_length\", return_tensors=\"pt\").to(device) \n",
    "        q_emb = q_encoder(**encoded_query).pooler_output\n",
    "        dot_prod_scores = torch.matmul(q_emb, torch.transpose(p_embs, 0, 1)) \n",
    "        rank = torch.argsort(dot_prod_scores, dim=1, descending=True).squeeze() \n",
    "        top50_answers.append(rank[:50]) \n",
    "        correct_idx = query_index_dict[query] \n",
    "        if correct_idx in rank[:1]:\n",
    "            top_1 += 1 \n",
    "        if correct_idx in rank[:5]:\n",
    "            top_5 += 1 \n",
    "        if correct_idx in rank[:10]:\n",
    "            top_10 += 1 \n",
    "        if correct_idx in rank[:20]: \n",
    "            top_20 += 1 \n",
    "        if correct_idx in rank[:50]:\n",
    "            top_50 += 1 \n",
    "    avg_top1 = top_1 / len(test_questions) \n",
    "    avg_top5 = top_5 / len(test_questions) \n",
    "    avg_top10 = top_10 / len(test_questions) \n",
    "    avg_top20 = top_20 / len(test_questions) \n",
    "    avg_top50 = top_50 / len(test_questions) \n",
    "    \n",
    "    print(f\"RECALL@1:{avg_top1} | RECALL@5:{avg_top5} | RECALL@10:{avg_top10} | RECALL@20:{avg_top20} | RECALL@50:{avg_top50}\")\n",
    "    "
   ]
  },
  {
   "cell_type": "code",
   "execution_count": 21,
   "id": "75f91d02-e5a9-4d56-aa3f-636e9ae46b55",
   "metadata": {},
   "outputs": [
    {
     "name": "stdout",
     "output_type": "stream",
     "text": [
      "query\n",
      "진정한 권리자가 아니었던 채무자 또는 물상보증인이 채무담보의 목적으로 채권자에게 부동산에 관하여 저당권설정등기를 경료해 준 후 그 부동산을 시효취득하는 경우, 저당목적물의 시효취득으로 저당권자의 권리가 소멸하는지 여부(소극) / 양도담보권설정자가 양도담보부동산을 20년간 소유의 의사로 평온, 공연하게 점유한 경우, 양도담보권자를 상대로 점유취득시효를 원인으로 하여 담보 목적으로 경료된 소유권이전등기의 말소 또는 양도담보권설정자 명의로의 소유권이전등기를 구할 수 있는지 여부\n",
      "candidates\n",
      "===== rank 1 =====\n",
      "부동산점유취득시효는 원시취득에 해당하므로 특별한 사정이 없는 한 원소유자의 소유권에 가하여진 각종 제한에 의하여 영향을 받지 아니하는 완전한 내용의 소유권을 취득하는 것이지만, 진정한 권리자가 아니었던 채무자 또는 물상보증인이 채무담보의 목적으로 채권자에게 부동산에 관하여 저당권설정등기를 경료해 준 후 그 부동산을 시효취득하는 경우에는, 채무자 또는 물상보증인은 피담보채권의 변제의무 내지 책임이 있는 사람으로서 이미 저당권의 존재를 용인하고 점유하여 온 것이므로, 저당목적물의 시효취득으로 저당권자의 권리는 소멸하지 않는다. 이러한 법리는 부동산 양도담보의 경우에도 마찬가지이므로, 양도담보권설정자가 양도담보부동산을 20년간 소유의 의사로 평온, 공연하게 점유하였다고 하더라도, 양도담보권자를 상대로 피담보채권의 시효소멸을 주장하면서 담보 목적으로 경료된 소유권이전등기의 말소를 구하는 것은 별론으로 하고, 점유취득시효를 원인으로 하여 담보 목적으로 경료된 소유권이전등기의 말소를 구할 수 없고, 이와 같은 효과가 있는 양도담보권설정자 명의로의 소유권이전등기를 구할 수도 없다.\n",
      "===== rank 2 =====\n",
      "재고상품, 제품, 원자재 등과 같은 집합물을 하나의 물건으로 보아 일정 기간 계속하여 채권담보의 목적으로 삼으려는 이른바 집합물에 대한 양도담보권설정계약에서는 담보목적인 집합물을 종류, 장소 또는 수량지정 등의 방법에 의하여 특정할 수 있으면 집합물 전체를 하나의 재산권 객체로 하는 담보권의 설정이 가능하므로, 그에 대한 양도담보권설정계약이 이루어지면 집합물을 구성하는 개개의 물건이 변동되거나 변형되더라도 한 개의 물건으로서의 동일성을 잃지 아니한 채 양도담보권의 효력은 항상 현재의 집합물 위에 미치고, 따라서 그러한 경우에 양도담보권자가 점유개정의 방법으로 양도담보권설정계약 당시 존재하는 집합물의 점유를 취득하면 그 후 양도담보권설정자가 집합물을 이루는 개개의 물건을 반입하였더라도 별도의 양도담보권설정계약을 맺거나 점유개정의 표시를 하지 않더라도 양도담보권의 효력이 나중에 반입된 물건에도 미친다. 다만 양도담보권설정자가 양도담보권설정계약에서 정한 종류·수량에 포함되는 물건을 계약에서 정한 장소에 반입하였더라도 그 물건이 제3자의 소유라면 담보목적인 집합물의 구성부분이 될 수 없고 따라서 그 물건에는 양도담보권의 효력이 미치지 않는다.\n",
      "===== rank 3 =====\n",
      "부당이득반환청구에서 이득이란 실질적인 이익을 의미하는데, 동산에 대하여 양도담보권을 설정하면서 양도담보권설정자가 양도담보권자에게 담보목적인 동산의 소유권을 이전하는 이유는 양도담보권자가 양도담보권을 실행할 때까지 스스로 담보물의 가치를 보존할 수 있게 함으로써 만약 채무자가 채무를 이행하지 않더라도 채권자인 양도담보권자가 양도받은 담보물을 환가하여 우선변제받는 데에 지장이 없도록 하기 위한 것이고, 동산양도담보권은 담보물의 교환가치 취득을 목적으로 하는 것이다. 이러한 양도담보권의 성격에 비추어 보면, 양도담보권의 목적인 주된 동산에 다른 동산이 부합되어 부합된 동산에 관한 권리자가 권리를 상실하는 손해를 입은 경우 주된 동산이 담보물로서 가치가 증가된 데 따른 실질적 이익은 주된 동산에 관한 양도담보권설정자에게 귀속되는 것이므로, 이 경우 부합으로 인하여 권리를 상실하는 자는 양도담보권설정자를 상대로 민법 제261조에 따라 보상을 청구할 수 있을 뿐 양도담보권자를 상대로 보상을 청구할 수는 없다.\n",
      "===== rank 4 =====\n",
      "금전채무를 담보하기 위하여 채무자가 그 소유의 동산을 채권자에게 양도하되 점유개정에 의하여 채무자가 이를 계속 점유하기로 한 경우 특별한 사정이 없는 한 동산의 소유권은 신탁적으로 이전됨에 불과하여 채권자와 채무자 사이의 대내적 관계에서 채무자는 의연히 소유권을 보유하나 대외적인 관계에 있어서 채무자는 동산의 소유권을 이미 채권자에게 양도한 무권리자가 되는 것이어서 다시 다른 채권자와의 사이에 양도담보 설정계약을 체결하고 점유개정의 방법으로 인도를 하더라도 선의취득이 인정되지 않는 한 나중에 설정계약을 체결한 채권자는 양도담보권을 취득할 수 없는데, 현실의 인도가 아닌 점유개정으로는 선의취득이 인정되지 아니하므로, 결국 뒤의 채권자는 양도담보권을 취득할 수 없다.\n",
      "===== rank 5 =====\n",
      "소멸시효를 원용할 수 있는 사람은 권리의 소멸에 의하여 직접 이익을 받는 사람에 한정되는바, 채권담보의 목적으로 매매예약의 형식을 빌어 소유권이전청구권 보전을 위한 가등기가 경료된 부동산을 양수하여 소유권이전등기를 마친 제3자는 당해 가등기담보권의 피담보채권의 소멸에 의하여 직접 이익을 받는 자이므로, 그 가등기담보권에 의하여 담보된 채권의 채무자가 아니더라도 그 피담보채권에 관한 소멸시효를 원용할 수 있고, 이와 같은 직접수익자의 소멸시효 원용권은 채무자의 소멸시효 원용권에 기초한 것이 아닌 독자적인 것으로서 채무자를 대위하여서만 시효이익을 원용할 수 있는 것은 아니며, 가사 채무자가 이미 그 가등기에 기한 본등기를 경료하여 시효이익을 포기한 것으로 볼 수 있다고 하더라도 그 시효이익의 포기는 상대적 효과가 있음에 지나지 아니하므로 채무자 이외의 이해관계자에 해당하는 담보 부동산의 양수인으로서는 여전히 독자적으로 소멸시효를 원용할 수 있다.\n",
      "===== rank 6 =====\n",
      "타인 소유의 토지에 관하여 구 부동산 소유권이전등기 등에 관한 특별조치법(1992. 11. 30. 법률 제4502호, 실효)에 따라 소유권보존등기를 마친 자는 그 보존등기에 의하여 비로소 소유자로 되는 것이고, 그 등기가 마쳐지기 전에 그 토지를 점유하는 자의 취득시효 기간이 경과하였다면 특별한 사정이 없는 한 등기명의인은 점유자의 시효 완성 후의 새로운 이해관계자라 할 것이므로 점유자로서는 취득시효 완성으로 그 등기명의인에 대항할 수 없다.\n",
      "===== rank 7 =====\n",
      "저당권자는 저당권의 목적이 된 물건의 멸실, 훼손 또는 공용징수로 인하여 저당목적물의 소유자가 받을 저당목적물에 갈음하는 금전 기타 물건에 대하여 물상대위권을 행사할 수 있으나, 다만 그 지급 또는 인도 전에 이를 압류하여야 하며, 저당권자가 위 금전 또는 물건의 인도청구권을 압류하기 전에 저당물의 소유자가 그 인도청구권에 기하여 금전 등을 수령한 경우 저당권자는 더 이상 물상대위권을 행사할 수 없게 된다. 이 경우 저당권자는 저당권의 채권최고액 범위 내에서 저당목적물의 교환가치를 지배하고 있다가 저당권을 상실하는 손해를 입게 되는 반면에, 저당목적물의 소유자는 저당권의 채권최고액 범위 내에서 저당권자에게 저당목적물의 교환가치를 양보하여야 할 지위에 있다가 마치 그러한 저당권의 부담이 없었던 것과 같은 상태에서의 대가를 취득하게 되는 것이므로, 그 수령한 금액 가운데 저당권의 채권최고액을 한도로 하는 피담보채권액의 범위 내에서는 이득을 얻게 된다. 저당목적물 소유자가 얻은 위와 같은 이익은 저당권자의 손실로 인한 것으로서 인과관계가 있을 뿐 아니라, 공평의 관념에 위배되는 재산적 가치의 이동이 있는 경우 수익자로부터 그 이득을 되돌려받아 손실자와 재산상태의 조정을 꾀하는 부당이득제도의 목적에 비추어 보면 위와 같은 이익을 소유권자에게 종국적으로 귀속시키는 것은 저당권자에 대한 관계에서 공평의 관념에 위배되어 법률상 원인이 없다고 봄이 상당하므로, 저당목적물 소유자는 저당권자에게 이를 부당이득으로 반환할 의무가 있다.\n",
      "===== rank 8 =====\n",
      "돈사에서 대량으로 사육되는 돼지를 집합물에 대한 양도담보의 목적물로 삼은 경우, 그 돼지는 번식, 사망, 판매, 구입 등의 요인에 의하여 증감 변동하기 마련이므로 양도담보권자가 그 때마다 별도의 양도담보권설정계약을 맺거나 점유개정의 표시를 하지 않더라도 하나의 집합물로서 동일성을 잃지 아니한 채 양도담보권의 효력은 항상 현재의 집합물 위에 미치게 되고, 양도담보설정자로부터 위 목적물을 양수한 자가 이를 선의취득하지 못하였다면 위 양도담보권의 부담을 그대로 인수하게 된다는 원심의 판단을 수긍한 사례.\n",
      "===== rank 9 =====\n",
      "채무자인 부동산 소유자와 새로운 제3의 채권자와 사이에 저당권등기의 유용의 합의를 하였으나 아직 종전의 채권자 겸 근저당권자의 협력을 받지 못하여 저당권 이전의 부기등기를 경료하지 못한 경우에는 부동산 소유자와 종전의 채권자 사이에서는 저당권설정등기는 여전히 등기원인이 소멸한 무효의 등기라고 할 것이므로 부동산 소유자는 종전의 채권자에 대하여 그 저당권설정등기의 말소를 구할 수 있다고 할 것이지만, 부동산 소유자와 종전의 채권자 그리고 새로운 제3의 채권자 등 3자가 합의하여 저당권설정등기를 유용하기로 합의한 경우라면 종전의 채권자는 부동산 소유자의 저당권설정등기말소청구에 대하여 그 3자 사이의 등기 유용의 합의 사실을 들어 대항할 수 있고 또한 부동산 소유자로부터 그 부동산을 양도받기로 하였으나 아직 소유권이전등기를 경료받지 아니하여 그 소유자를 대위하여 저당권설정등기의 말소를 구할 수밖에 없는 자에 대하여도 마찬가지로 대항할 수 있다.\n",
      "===== rank 10 =====\n",
      "점유로 인한 소유권취득시효 완성 당시 미등기로 남아 있던 토지에 관하여 소유권을 가지고 있던 자가 취득시효 완성 후에 그 명의로 소유권보존등기를 마쳤다 하더라도 이는 소유권의 변경에 관한 등기가 아니므로 그러한 자를 그 취득시효 완성 후의 새로운 이해관계인으로 볼 수 없고, 또 그 미등기 토지에 대하여 소유자의 상속인 명의로 소유권보존등기를 마친 것도 시효취득에 영향을 미치는 소유자의 변경에 해당하지 않으므로, 이러한 경우에는 그 등기명의인에게 취득시효 완성을 주장할 수 있다.\n",
      "===== rank 11 =====\n",
      "부동산 매도인이 매매대금을 다 지급받지 아니한 상태에서 매수인에게 소유권이전등기를 마쳐주어 목적물의 소유권을 매수인에게 이전한 경우에는, 매도인의 목적물인도의무에 관하여 동시이행의 항변권 외에 물권적 권리인 유치권까지 인정할 것은 아니다. 왜냐하면 법률행위로 인한 부동산물권변동의 요건으로 등기를 요구함으로써 물권관계의 명확화 및 거래의 안전·원활을 꾀하는 우리 민법의 기본정신에 비추어 볼 때, 만일 이를 인정한다면 매도인은 등기에 의하여 매수인에게 소유권을 이전하였음에도 매수인 또는 그의 처분에 기하여 소유권을 취득한 제3자에 대하여 소유권에 속하는 대세적인 점유의 권능을 여전히 보유하게 되는 결과가 되어 부당하기 때문이다. 또한 매도인으로서는 자신이 원래 가지는 동시이행의 항변권을 행사하지 아니하고 자신의 소유권이전의무를 선이행함으로써 매수인에게 소유권을 넘겨 준 것이므로 그에 필연적으로 부수하는 위험은 스스로 감수하여야 한다. 따라서 매도인이 부동산을 점유하고 있고 소유권을 이전받은 매수인에게서 매매대금 일부를 지급받지 못하고 있다고 하여 매매대금채권을 피담보채권으로 매수인이나 그에게서 부동산 소유권을 취득한 제3자를 상대로 유치권을 주장할 수 없다.\n",
      "===== rank 12 =====\n",
      "[다수의견] 부동산의 매수인이 그 부동산을 인도받은 이상 이를 사용·수익하다가 그 부동산에 대한 보다 적극적인 권리 행사의 일환으로 다른 사람에게 그 부동산을 처분하고 그 점유를 승계하여 준 경우에도 그 이전등기청구권의 행사 여부에 관하여 그가 그 부동산을 스스로 계속 사용·수익만 하고 있는 경우와 특별히 다를 바 없으므로 위 두 어느 경우에나 이전등기청구권의 소멸시효는 진행되지 않는다고 보아야 한다. [반대의견] 부동산의 매수인이 매매목적물을 인도받아 이를 사용·수익하고 있는 동안에는 그 소유권이전등기청구권의 소멸시효가 진행하지 않는다고 보아야 할 것이나, 매수인이 목적물의 점유를 상실하여 더 이상 사용·수익하고 있는 상태가 아니라면, 매도인에 대한 관계에서 권리의 주장 내지 행사가 계속되고 있다고 볼 만한 사정이 없고, 비록 매수인이 그 부동산을 다른 사람에게 처분하고 인도하여 준 경우라고 하더라도 그 처분은 타인의 권리를 전매한 것에 불과할 뿐이고 그 소유권을 처분 내지 행사하였다고 볼 수는 없으며, 그 인도 또한 매수인이 새로운 매매계약에 따른 자신의 의무를 이행한 것에 지나지 아니할 뿐만 아니라 오히려 그 점유를 이전함으로써 목적물에 대한 사용·수익의 상태에서 벗어나게 된 것이어서 위 처분 내지 인도를 가리켜 매도인에 대한 관계에서 권리 행사라고 볼 수도 없는 것이므로, 점유의 상실원인이 무엇이든지 간에 점유 상실 시점으로부터 그 이전등기청구권의 소멸시효가 진행한다고 봄이 상당하다. [보충의견] 부동산의 매수인의 매도인에 대한 소유권이전등기청구와 인도청구는 일반적으로 그 자체가 채권이라고 이해되고 있으나 그 법률적 성질은 소유권을 이전받을 매수인의 채권에 기한 채권적 권리 행사인 것으로서 매수인이 이전등기청구를 하거나 또는 인도청구를 하는 것은 모두 매수채권을 행사하였다는 점에서 동일하고, 또한 매수인이 부동산을 인도받음으로써 인도에 관한 채권행사는 일단 완료된 것이고 그 이후 이를 점유·사용하는 것은 매수채권 행사 자체가 계속되는 것이 아니고 그 권리 행사 결과의 상태가 유지되는 것 뿐이므로 목적물을 매수인 본인이 점유·사용하든지 또는 제3자에 양도하여 점유·사용하게 하든지 매수인의 인도청구권 행사의 결과에 따른 상태는 마찬가지로 유지되고 있어 권리 행사의 상태가 관건이 되는 시효 적용에서 이를 구별할 필요가 없다.\n",
      "===== rank 13 =====\n",
      "물상보증인의 변제자대위에 대한 기대권은 민법 제485조에 의하여 보호되어, 채권자가 고의나 과실로 담보를 상실하게 하거나 감소하게 한 때에는, 특별한 사정이 없는 한 물상보증인은 그 상실 또는 감소로 인하여 상환을 받을 수 없는 한도에서 면책 주장을 할 수 있다. 채권자가 물적 담보인 담보물권을 포기하거나 순위를 불리하게 변경하는 것은 담보의 상실 또는 감소행위에 해당한다. 따라서 채무자 소유 부동산과 물상보증인 소유 부동산에 공동근저당권을 설정한 채권자가 공동담보 중 채무자 소유 부동산에 대한 담보 일부를 포기하거나 순위를 불리하게 변경하여 담보를 상실하게 하거나 감소하게 한 경우, 물상보증인은 그로 인하여 상환받을 수 없는 한도에서 책임을 면한다. 그리고 이 경우 공동근저당권자는 나머지 공동담보 목적물인 물상보증인 소유 부동산에 관한 경매절차에서, 물상보증인이 위와 같이 담보 상실 내지 감소로 인한 면책을 주장할 수 있는 한도에서는, 물상보증인 소유 부동산의 후순위 근저당권자에 우선하여 배당받을 수 없다.\n",
      "===== rank 14 =====\n",
      "가등기담보등에관한법률 제3조, 제4조의 각 규정에 비추어 볼 때 그 각 규정을 위반하여 담보가등기에 기한 본등기가 이루어진 경우에는 그 본등기는 무효라고 할 것이고, 설령 그와 같은 본등기가 가등기권리자와 채무자 사이에 이루어진 특약에 의하여 이루어졌다고 할지라도 만일 그 특약이 채무자에게 불리한 것으로서 무효라고 한다면 그 본등기는 여전히 무효일 뿐, 이른바 약한 의미의 양도담보로서 담보의 목적 내에서는 유효하다고 할 것이 아니고, 다만 가등기권리자가 가등기담보등에관한법률 제3조, 제4조에 정한 절차에 따라 청산금의 평가액을 채무자 등에게 통지한 후 채무자에게 정당한 청산금을 지급하거나 지급할 청산금이 없는 경우에는 채무자가 그 통지를 받은 날로부터 2월의 청산기간이 경과하면 위 무효인 본등기는 실체적 법률관계에 부합하는 유효한 등기가 될 수 있다.\n",
      "===== rank 15 =====\n",
      "채무의 이행이 불능이라는 것은 단순히 절대적·물리적으로 불능인 경우가 아니라 사회생활에 있어서의 경험법칙 또는 거래상의 관념에 비추어 볼 때 채권자가 채무자의 이행의 실현을 기대할 수 없는 경우를 말하는 것인바, 매매목적물에 대하여 가압류 또는 처분금지가처분 집행이 되어 있다고 하여 매매에 따른 소유권이전등기가 불가능한 것은 아니며, 이러한 법리는 가압류 또는 가처분집행의 대상이 매매목적물 자체가 아니라 매도인이 매매목적물의 원소유자에 대하여 가지는 소유권이전등기청구권 또는 분양권인 경우에도 마찬가지이다.\n",
      "===== rank 16 =====\n",
      "시효제도는 일정 기간 계속된 사회질서를 유지하고 시간의 경과로 인하여 곤란해지는 증거보전으로부터의 구제를 꾀하며 자기 권리를 행사하지 않고 소위 권리 위에 잠자는 자는 법적 보호에서 이를 제외하기 위하여 규정된 제도라 할 것인바, 부동산에 관하여 인도, 등기 등의 어느 한 쪽만에 대하여서라도 권리를 행사하는 자는 전체적으로 보아 그 부동산에 관하여 권리 위에 잠자는 자라고 할 수 없다 할 것이므로, 매수인이 목적 부동산을 인도받아 계속 점유하는 경우에는 그 소유권이전등기청구권의 소멸시효가 진행하지 않는다.\n",
      "===== rank 17 =====\n",
      "동일한 부동산에 관하여 등기명의인을 달리하여 중복된 소유권보존등기가 마쳐진 경우 선행 보존등기가 원인무효가 되지 않는 한 후행 보존등기는 실체관계에 부합하는지에 관계없이 무효라는 법리는 후행 보존등기 또는 그에 기하여 이루어진 소유권이전등기의 명의인이 당해 부동산의 소유권을 원시취득한 경우에도 그대로 적용된다. 따라서 선행 보존등기가 원인무효가 아니어서 후행 보존등기가 무효인 경우 후행 보존등기에 기하여 소유권이전등기를 마친 사람이 그 부동산을 20년간 소유의 의사로 평온·공연하게 점유하여 점유취득시효가 완성되었더라도, 후행 보존등기나 그에 기하여 이루어진 소유권이전등기가 실체관계에 부합한다는 이유로 유효로 될 수 없고, 선행 보존등기에 기한 소유권을 주장하여 후행 보존등기에 터잡아 이루어진 등기의 말소를 구하는 것이 실체적 권리 없는 말소청구에 해당한다고 볼 수 없다.\n",
      "===== rank 18 =====\n",
      "유동집합물에 대한 양도담보계약의 목적물을 선의취득하지 못한 양수인이 그 양도담보의 효력이 미치는 목적물에다 자기 소유인 동종의 물건을 섞어 관리함으로써 당초의 양도담보의 효력이 미치는 목적물의 범위를 불명확하게 한 경우에는 양수인으로 하여금 그 양도담보의 효력이 미치지 아니하는 물건의 존재와 범위를 입증하도록 하는 것이 공평의 원칙에 부합한다.\n",
      "===== rank 19 =====\n",
      "전세권이 담보물권적 성격도 가지는 이상 부종성과 수반성이 있는 것이므로 전세권을 그 담보하는 전세금반환채권과 분리하여 양도하는 것은 허용되지 않는다고 할 것이나, 한편 담보물권의 수반성이란 피담보채권의 처분이 있으면 언제나 담보물권도 함께 처분된다는 것이 아니라, 채권 담보라고 하는 담보물권 제도의 존재 목적에 비추어 볼 때 특별한 사정이 없는 한 피담보채권의 처분에는 담보물권의 처분도 포함된다고 보는 것이 합리적이라는 것일 뿐이므로, 전세권이 존속기간의 만료로 소멸한 경우이거나 전세계약의 합의해지 또는 당사자 간의 특약에 의하여 전세권반환채권의 처분에도 불구하고, 전세권의 처분이 따르지 않는 경우 등의 특별한 사정이 있는 때에는 채권양수인은 담보물권이 없는 무담보의 채권을 양수한 것이 된다.\n",
      "===== rank 20 =====\n",
      "민법 제245조 제2항은 부동산의 소유자로 등기한 자가 10년간 소유의 의사로 평온·공연하게 선의이며 과실 없이 그 부동산을 점유한 때에는 소유권을 취득한다고 규정하고 있는바, 위 법 조항의 '등기'는 부동산등기법 제15조가 규정한 1부동산 1용지주의에 위배되지 아니한 등기를 말하므로, 어느 부동산에 관하여 등기명의인을 달리하여 소유권보존등기가 2중으로 경료된 경우 먼저 이루어진 소유권보존등기가 원인무효가 아니어서 뒤에 된 소유권보존등기가 무효로 되는 때에는, 뒤에 된 소유권보존등기나 이에 터잡은 소유권이전등기를 근거로 하여서는 등기부취득시효의 완성을 주장할 수 없다.\n",
      "===== rank 21 =====\n",
      "양자간 등기명의신탁에서 명의수탁자가 신탁부동산을 처분하여 제3취득자가 유효하게 소유권을 취득하고 이로써 명의신탁자가 신탁부동산에 대한 소유권을 상실하였다면, 명의신탁자의 소유권에 기한 물권적 청구권, 즉 말소등기청구권이나 진정명의회복을 원인으로 한 이전등기청구권도 더 이상 그 존재 자체가 인정되지 않는다. 그 후 명의수탁자가 우연히 신탁부동산의 소유권을 다시 취득하였다고 하더라도 명의신탁자가 신탁부동산의 소유권을 상실한 사실에는 변함이 없으므로, 여전히 물권적 청구권은 그 존재 자체가 인정되지 않는다.\n",
      "===== rank 22 =====\n",
      "부동산의 소유자 겸 채무자가 채권자인 저당권자에게 당해 저당권설정등기에 의하여 담보되는 채무를 모두 변제함으로써 저당권이 소멸된 경우 그 저당권설정등기 또한 효력을 상실하여 말소되어야 할 것이나, 그 부동산의 소유자가 새로운 제3의 채권자로부터 금원을 차용함에 있어 그 제3자와 사이에 새로운 차용금 채무를 담보하기 위하여 잔존하는 종전 채권자 명의의 저당권설정등기를 이용하여 이에 터잡아 새로운 제3의 채권자에게 저당권 이전의 부기등기를 경료하기로 하는 내용의 저당권등기 유용의 합의를 하고 실제로 그 부기등기를 경료하였다면, 그 저당권이전등기를 경료받은 새로운 제3의 채권자로서는 언제든지 부동산의 소유자에 대하여 그 등기 유용의 합의를 주장하여 저당권설정등기의 말소청구에 대항할 수 있다고 할 것이고, 다만 그 저당권 이전의 부기등기 이전에 등기부상 이해관계를 가지게 된 자에 대하여는 위 등기 유용의 합의 사실을 들어 위 저당권설정등기 및 그 저당권 이전의 부기등기의 유효를 주장할 수는 없다.\n",
      "===== rank 23 =====\n",
      "동일부동산에 관하여 등기명의인을 달리하여 중복된 소유권보존등기가 경료된 경우에는 먼저 이루어진 소유권보존등기가 원인무효가 되지 아니하는 한 뒤에 된 소유권보존등기는 비록 그 부동산의 매수인에 의하여 이루어진 경우에도 1부동산1용지주의를 채택하고 있는 부동산등기법 아래에서는 무효라고 해석함이 상당하다 할 것인바, 원고가 소외 망인으로부터 그 소유인 토지를 매수하고 이미 망인 명의로 소유권이전등기가 경료되어 있던 위 토지에 관하여 원고 명의의 소유권보존등기를 경료한 경우 망인 명의의 소유권이전등기의 토대가 된 소유권보존등기가 원인무효라고 볼 아무런 주장·입증이 없다면 원고가 위 망인으로부터 위 토지를 매수하였다고 하더라도 위 망인 명의의 소유권이전등기에 기하여 소유권이전등기를 경료하지 아니하고 소유권보존등기를 경료한 이상 뒤에 경료된 원고 명의의 소유권보존등기는 이중등기로서 무효라고 할 것이므로 원고는 위 망인의 상속인인 피고들을 상대로 위 부동산에 관하여 위 매매를 원인으로 한 소유권이전등기를 청구할 이익이 있다. (반대의견) 부동산 양수인이 이미 양도인 명의로 등기가 되어 있는데도 중복하여 양수인 명의로 소유권보존등기를 경료한 경우에 있어서 2개의 등기 중 어느 등기를 유효한 등기로서 존속시킬 것인가는 어느 등기가 현재의 권리상태에 부합하는가에 따라 결정하여야 하고 등기가 형식적 효력조건을 갖추었는지 여부나 과거의 권리변동과정에 합치되는지 여부에 따라 결정할 것이 아니므로 마땅히 현재의 권리상태에 부합하는 양수인 명의의 후등기를 유효한 등기로 존속시키고 양도인 명의의 선등기는 이를 폐쇄하여 이중등기 상태를 종식시켜야 한다. (별개의견) 소유권이전등기를 거쳐야 할 것을 어떤 경위로 소유권보존등기를 경료하였고 그 등기가 궁극적으로 유효한 것이라고 할 때 같은 부동산에 대하여 따로 타인 명의의 소유권이전등기가 존재하고 있다면 그 등기는 소유권을 침해하고있는 형상이기 때문에 위 보존등기명의인으로서는 그 완전한 권리를 회복하기 위하여 소유권이전등기의 말소를 구함으로써 중복등기를 제거할 수 있으나 소송절차와 경제상 간편하고 또 제3자의 이해관계에 지장이 없다면 소유권이전등기를 거침으로써 하나의 등기로 귀일하려는 청구를 받아들이는 것이 합당하다고 보여지므로 소유권이전등기를 청구할 이익도 있다 할 것이다.\n",
      "===== rank 24 =====\n",
      "민법 제482조 제2항 제1호, 제5호는 변제자대위의 효과로 채권자가 가지고 있던 채권 및 그 담보에 관한 권리가 법률상 당연히 변제자에게 이전하는 경우에도, 변제로 인하여 저당권 등이 소멸한 것으로 믿고 목적부동산을 취득한 제3취득자를 불측의 손해로부터 보호하기 위하여 미리 저당권 등에 대위의 부기등기를 하지 아니하면 제3취득자에 대하여 채권자를 대위하지 못하도록 정하고 있다. 이에 따라 자기의 재산을 타인의 채무의 담보로 제공한 물상보증인이 수인일 때 그중 일부의 물상보증인이 채무를 변제한 뒤 다른 물상보증인 소유 부동산에 설정된 근저당권설정등기에 관하여 대위의 부기등기를 하여 두지 아니하고 있는 동안에 제3취득자가 위 부동산을 취득하였다면, 대위변제한 물상보증인들은 제3취득자에 대하여 채권자를 대위할 수 없다. 그런데 이와 같이 법률상 당연히 이전되는 저당권과 관련하여 그 후에 해당 부동산에 대하여 권리를 취득한 제3취득자를 보호할 필요성은 후순위저당권자의 대위의 경우에도 마찬가지로 존재한다. 그리고 후순위저당권자의 대위의 경우에도 부동산등기법 제80조에서 정한 공동저당의 대위등기를 통하여 제3취득자에게 공시할 수 있으므로, 변제자대위와 마찬가지로 일정한 경우에 대위등기를 선행하도록 요구한다고 하더라도 후순위저당권자에게 크게 불리하지 아니하다. 더욱이 변제자대위의 경우에는 저당권뿐 아니라 채권까지 이전됨에 비하여 후순위저당권자의 대위의 경우에는 채권이 이전되지 아니한다는 점까지 고려하면, 후순위저당권자를 변제자보다 항상 더 보호하여야 할 필요성이 있다고 보기는 어렵다. 한편 후순위저당권자의 대위에 의하여 선순위저당권자가 가지고 있던 다른 부동산에 관한 저당권이 후순위저당권자에게 이전된 후에 아직 저당권이 말소되지 아니하고 부동산등기부에 존속하는 경우라면, 비록 공동저당의 대위등기를 하지 아니하더라도 제3취득자로서는 저당권이 유효하게 존재함을 알거나 적어도 저당권이 공동저당권으로서 공시되어 있는 상태에서 이를 알면서 해당 부동산을 취득할 것이므로 저당권의 이전과 관련하여 제3취득자를 보호할 필요성은 적다. 이러한 사정들을 종합하여 보면, 먼저 경매된 부동산의 후순위저당권자가 다른 부동산에 공동저당의 대위등기를 하지 아니하고 있는 사이에 선순위저당권자 등에 의해 그 부동산에 관한 저당권등기가 말소되고, 그와 같이 저당권등기가 말소되어 등기부상 저당권의 존재를 확인할 수 없는 상태에서 그 부동산에 관하여 소유권이나 저당권 등 새로 이해관계를 취득한 사람에 대해서는, 후순위저당권자가 민법 제368조 제2항에 의한 대위를 주장할 수 없다.\n",
      "===== rank 25 =====\n",
      "이른바 3자간 등기명의신탁에서 부동산 실권리자명의 등기에 관한 법률에서 정한 유예기간이 경과한 후 명의수탁자가 신탁부동산을 임의로 처분하거나 강제수용이나 공공용지 협의취득 등을 원인으로 제3취득자 명의로 이전등기가 마쳐진 경우, 특별한 사정이 없는 한 제3취득자는 유효하게 소유권을 취득하게 되므로( 같은 법 제4조 제3항), 그로 인하여 매도인의 명의신탁자에 대한 소유권이전등기의무는 이행불능으로 되고 그 결과 명의신탁자는 신탁부동산의 소유권을 이전받을 권리를 상실하는 손해를 입게 되는 반면, 명의수탁자는 신탁부동산의 처분대금이나 보상금을 취득하는 이익을 얻게 되므로, 명의수탁자는 명의신탁자에게 그 이익을 부당이득으로 반환할 의무가 있다.\n",
      "===== rank 26 =====\n",
      "물상보증인이 대위취득한 선순위저당권설정등기에 대하여는 말소등기가 경료될 것이 아니라 물상보증인 앞으로 대위에 의한 저당권이전의 부기등기가 경료되어야 할 성질의 것이며, 따라서 아직 경매되지 아니한 공동저당물의 소유자로서는 1번저당권자에 대한 피담보채무가 소멸하였다는 사정만으로는 말소등기를 청구할 수 없다.\n",
      "===== rank 27 =====\n",
      "부동산의 매매로 인한 소유권이전등기청구권은 물권의 이전을 목적으로 하는 매매의 효과로서 매도인이 부담하는 재산권이전의무의 한 내용을 이루는 것이고, 매도인이 물권행위의 성립요건을 갖추도록 의무를 부담하는 경우에 발생하는 채권적 청구권으로 그 이행과정에 신뢰관계가 따르므로, 소유권이전등기청구권을 매수인으로부터 양도받은 양수인은 매도인이 그 양도에 대하여 동의하지 않고 있다면 매도인에 대하여 채권양도를 원인으로 하여 소유권이전등기절차의 이행을 청구할 수 없고, 따라서 매매로 인한 소유권이전등기청구권은 특별한 사정이 없는 이상 그 권리의 성질상 양도가 제한되고 그 양도에 채무자의 승낙이나 동의를 요한다고 할 것이므로 통상의 채권양도와 달리 양도인의 채무자에 대한 통지만으로는 채무자에 대한 대항력이 생기지 않으며 반드시 채무자의 동의나 승낙을 받아야 대항력이 생긴다.\n",
      "===== rank 28 =====\n",
      "부동산에 관한 점유취득시효가 완성된 후에 그 취득시효를 주장하거나 이로 인한 소유권이전등기청구를 하기 이전에는 그 등기명의인인 부동산 소유자로서는 특별한 사정이 없는 한 그 시효취득 사실을 알 수 없는 것이므로 이를 제3자에게 처분하였다 하더라도 그로 인한 손해배상책임을 부담하지 않는 것이나, 등기명의인인 부동산 소유자가 그 부동산의 인근에 거주하는 등으로 그 부동산의 점유·사용관계를 잘 알고 있고, 시효취득을 주장하는 권리자가 등기명의인을 상대로 취득시효완성을 원인으로 한 소유권이전등기 청구소송을 제기하여 등기명의인이 그 소장 부본을 송달받은 경우에는 등기명의인이 그 부동산의 취득시효완성 사실을 알았거나 알 수 있었다고 봄이 상당하므로, 그 이후 등기명의인이 그 부동산을 제3자에게 매도하거나 근저당권을 설정하는 등 처분하여 취득시효완성을 원인으로 한 소유권이전등기의무가 이행불능에 빠졌다면 그러한 등기명의인의 처분행위는 시효취득자에 대한 소유권이전등기의무를 면탈하기 위하여 한 것으로서 위법하고, 부동산을 처분한 등기명의인은 이로 인하여 시효취득자가 입은 손해를 배상할 책임이 있다.\n",
      "===== rank 29 =====\n",
      "등기부취득시효에 관하여 민법 제245조 제2항은 \"부동산의 소유자로 등기한 자가 10년간 소유의 의사로 평온, 공연하게 선의이며 과실 없이 그 부동산을 점유한 때에는 소유권을 취득한다.\"고 규정하고 있는데, 위 규정에 의하여 소유권을 취득하는 자는 10년간 반드시 그의 명의로 등기되어 있어야 하는 것은 아니고 앞 사람의 등기까지 아울러 그 기간동안 부동산의 소유자로 등기되어 있으면 된다고 할 것이고, 등기는 물권의 효력발생요건이고 효력존속요건이 아니므로 물권에 관한 등기가 원인 없이 말소된 경우에 그 물권의 효력에는 아무런 영향을 미치지 않는 것이므로, 등기부취득시효가 완성된 후에 그 부동산에 관한 점유자 명의의 등기가 말소되거나 적법한 원인 없이 다른 사람 앞으로 소유권이전등기가 경료되었다 하더라도, 그 점유자는 등기부취득시효의 완성에 의하여 취득한 소유권을 상실하는 것은 아니다.\n",
      "===== rank 30 =====\n",
      "통정 허위표시를 원인으로 한 부동산에 관한 가등기 및 그 가등기에 기한 본등기로 인하여 갑의 소유권이전등기가 말소된 후 다시 그 본등기에 터잡아 을이 부동산을 양수하여 소유권이전등기를 마친 경우, 을이 통정 허위표시자로부터 실질적으로 부동산을 양수하고 또 이를 양수함에 있어 통정 허위표시자 명의의 각 가등기 및 이에 기한 본등기의 원인이 된 각 의사표시가 허위표시임을 알지 못하였다면, 갑은 선의의 제3자인 을에 대하여는 그 각 가등기 및 본등기의 원인이 된 각 허위표시가 무효임을 주장할 수 없고, 따라서 을에 대한 관계에서는 그 각 허위표시가 유효한 것이 되므로 그 각 허위표시를 원인으로 한 각 가등기 및 본등기와 이를 바탕으로 그 후에 이루어진 을 명의의 소유권이전등기도 유효하다는 이유로, 을이 선의라 하더라도 을에 대하여 갑이 그 부동산의 소유권자임을 주장할 수 있다고 한 원심판결을 파기한 사례.\n",
      "===== rank 31 =====\n",
      "명의신탁자와 명의수탁자가 이른바 계약명의신탁약정을 맺고 명의수탁자가 당사자가 되어 명의신탁약정이 있다는 사실을 알지 못하는 소유자와 부동산에 관한 매매계약을 체결한 뒤 수탁자 명의로 소유권이전등기를 마친 경우에는, 명의신탁자와 명의수탁자 사이의 명의신탁약정은 무효이지만 그 명의수탁자는 당해 부동산의 완전한 소유권을 취득하게 되고( 부동산 실권리자명의 등기에 관한 법률 제4조 제1항, 제2항 참조), 반면 명의신탁자는 애초부터 당해 부동산의 소유권을 취득할 수 없고 다만 그가 명의수탁자에게 제공한 부동산 매수자금이 무효의 명의신탁약정에 의한 법률상 원인 없는 것이 되는 관계로 명의수탁자에 대하여 동액 상당의 부당이득반환청구권을 가질 수 있을 뿐이다. 명의신탁자의 이와 같은 부당이득반환청구권은 부동산 자체로부터 발생한 채권이 아닐 뿐만 아니라 소유권 등에 기한 부동산의 반환청구권과 동일한 법률관계나 사실관계로부터 발생한 채권이라고 보기도 어려우므로, 결국 민법 제320조 제1항에서 정한 유치권 성립요건으로서의 목적물과 채권 사이의 견련관계를 인정할 수 없다.\n",
      "===== rank 32 =====\n",
      "채무담보의 목적으로 경료된 채권자 명의의 소유권이전등기나 그 청구권보전의 가등기의 말소를 구하려면 먼저 채무를 변제하여야 하고 피담보채무의 변제와 교환적으로 말소를 구할 수는 없다.\n",
      "===== rank 33 =====\n",
      "부동산에 대한 점유취득시효가 완성된 후 취득시효 완성을 원인으로 한 소유권이전등기를 하지 않고 있는 사이에 그 부동산에 관하여 제3자 명의의 소유권이전등기가 경료된 경우라 하더라도 당초의 점유자가 계속 점유하고 있고 소유자가 변동된 시점을 기산점으로 삼아도 다시 취득시효의 점유기간이 경과한 경우에는 점유자로서는 제3자 앞으로의 소유권 변동시를 새로운 점유취득시효의 기산점으로 삼아 2차의 취득시효의 완성을 주장할 수 있다.\n",
      "===== rank 34 =====\n",
      "사해행위취소의 소에서 채무자가 수익자에게 양도한 목적물에 저당권이 설정되어 있는 경우라면 그 목적물 중에서 일반채권자들의 공동담보에 제공되는 책임재산은 피담보채권액을 공제한 나머지 부분만이라고 할 것이고 그 피담보채권액이 목적물의 가액을 초과할 때는 당해 목적물의 양도는 사해행위에 해당한다고 할 수 없다. 그런데 수 개의 부동산에 공동저당권이 설정되어 있는 경우 책임재산을 산정함에 있어 각 부동산이 부담하는 피담보채권액은 특별한 사정이 없는 한 민법 제368조의 규정 취지에 비추어 공동저당권의 목적으로 된 각 부동산의 가액에 비례하여 공동저당권의 피담보채권액을 안분한 금액이라고 보아야 한다. 그러나 그 수 개의 부동산 중 일부는 채무자의 소유이고 다른 일부는 물상보증인의 소유인 경우에는, 물상보증인이 민법 제481조, 제482조의 규정에 따른 변제자대위에 의하여 채무자 소유의 부동산에 대하여 저당권을 행사할 수 있는 지위에 있는 점 등을 고려할 때, 그 물상보증인이 채무자에 대하여 구상권을 행사할 수 없는 특별한 사정이 없는 한 채무자 소유의 부동산에 관한 피담보채권액은 공동저당권의 피담보채권액 전액으로 봄이 상당하다. 이러한 법리는 하나의 공유부동산 중 일부 지분이 채무자의 소유이고, 다른 일부 지분이 물상보증인의 소유인 경우에도 마찬가지로 적용된다.\n",
      "===== rank 35 =====\n",
      "가등기담보등에관한법률이 제3조와 제4조에서 가등기담보권의 사적 실행방법으로 귀속정산의 원칙을 규정함과 동시에 제12조와 제13조에서 그 공적 실행방법으로 경매의 청구 및 우선변제청구권 등 처분정산을 별도로 규정하고 있는 점, 위 제4조가 제1항 내지 제3항에서 채권자의 청산금 지급의무, 청산기간 경과와 본등기청구, 청산금의 지급의무와 부동산의 소유권이전등기 및 인도 채무의 동시이행관계 등을 순차로 규정한 다음, 제4항에서 제1항 내지 제3항에 반하는 특약으로서 채무자 등에게 불리한 것은 그 효력이 없다(다만, 청산기간 경과 후에 행하여진 특약으로서 제3자의 권리를 해하지 아니하는 경우는 제외된다.)고 규정하고 있는 점, 나아가 제11조는 채무자 등이 청산금 채권을 변제받을 때까지 그 채무액을 채권자에게 지급하고 그 채권담보의 목적으로 경료된 소유권이전등기의 말소를 청구할 수 있다고 규정하고 있는 점 등을 종합하여 보면, 가등기담보권의 사적 실행에 있어서 채권자가 청산금의 지급 이전에 본등기와 담보목적물의 인도를 받을 수 있다거나 청산기간이나 동시이행관계를 인정하지 아니하는 '처분정산'형의 담보권실행은 가등기담보등에관한법률상 허용되지 아니한다.\n",
      "===== rank 36 =====\n",
      "부동산에 가압류등기가 경료되면 채무자가 당해 부동산에 관한 처분행위를 하더라도 이로써 가압류채권자에게 대항할 수 없게 되는데, 여기서 처분행위란 당해 부동산을 양도하거나 이에 대해 용익물권, 담보물권 등을 설정하는 행위를 말하고 특별한 사정이 없는 한 점유의 이전과 같은 사실행위는 이에 해당하지 않는다. 다만 부동산에 경매개시결정의 기입등기가 경료되어 압류의 효력이 발생한 후에 채무자가 제3자에게 당해 부동산의 점유를 이전함으로써 그로 하여금 유치권을 취득하게 하는 경우 그와 같은 점유의 이전은 처분행위에 해당한다는 것이 당원의 판례이나, 이는 어디까지나 경매개시결정의 기입등기가 경료되어 압류의 효력이 발생한 후에 채무자가 당해 부동산의 점유를 이전함으로써 제3자가 취득한 유치권으로 압류채권자에게 대항할 수 있다고 한다면 경매절차에서의 매수인이 매수가격 결정의 기초로 삼은 현황조사보고서나 매각물건명세서 등에서 드러나지 않는 유치권의 부담을 그대로 인수하게 되어 경매절차의 공정성과 신뢰를 현저히 훼손하게 될 뿐만 아니라, 유치권신고 등을 통해 매수신청인이 위와 같은 유치권의 존재를 알게 되는 경우에는 매수가격의 즉각적인 하락이 초래되어 책임재산을 신속하고 적정하게 환가하여 채권자의 만족을 얻게 하려는 민사집행제도의 운영에 심각한 지장을 줄 수 있으므로, 위와 같은 상황하에서는 채무자의 제3자에 대한 점유이전을 압류의 처분금지효에 저촉되는 처분행위로 봄이 타당하다는 취지이다. 따라서 이와 달리 부동산에 가압류등기가 경료되어 있을 뿐 현실적인 매각절차가 이루어지지 않고 있는 상황하에서는 채무자의 점유이전으로 인하여 제3자가 유치권을 취득하게 된다고 하더라도 이를 처분행위로 볼 수는 없다.\n",
      "===== rank 37 =====\n",
      "甲이 乙의 임차보증금반환채권을 담보하기 위하여 통정허위표시로 乙에게 전세권설정등기를 마친 후 丙이 이러한 사정을 알면서도 乙에 대한 채권을 담보하기 위하여 위 전세권에 대하여 전세권근저당권설정등기를 마쳤는데, 그 후 丁이 丙의 전세권근저당권부 채권을 가압류하였다가 이를 본압류로 이전하는 압류명령을 받은 사안에서, 丙의 전세권근저당권부 채권은 통정허위표시에 의하여 외형상 형성된 전세권을 목적물로 하는 전세권근저당권의 피담보채권이고, 丁은 이러한 丙의 전세권근저당권부 채권을 가압류하고 압류명령을 얻음으로써 그 채권에 관한 담보권인 전세권근저당권의 목적물에 해당하는 전세권에 대하여 새로이 법률상 이해관계를 가지게 되었으므로, 丁이 통정허위표시에 관하여 선의라면 비록 丙이 악의라 하더라도 허위표시자는 그에 대하여 전세권이 통정허위표시에 의한 것이라는 이유로 대항할 수 없음에도, 이와 달리 본 원심판결에 법리오해의 위법이 있다고 한 사례.\n",
      "===== rank 38 =====\n",
      "타인의 채무를 변제하고 채권자를 대위하는 대위자 상호간의 관계를 규정한 민법 제482조 제2항 제5호 단서에서 대위의 부기등기에 관한 제1호의 규정을 준용하도록 규정한 취지는 자기의 재산을 타인의 채무의 담보로 제공한 물상보증인이 수인일 때 그중 일부의 물상보증인이 채무의 변제로 다른 물상보증인에 대하여 채권자를 대위하게 될 경우에 미리 대위의 부기등기를 하여 두지 아니하면 채무를 변제한 뒤에 그 저당물을 취득한 제3취득자에 대하여 채권자를 대위할 수 없도록 하려는 것이라고 해석되므로 자신들 소유의 부동산을 채무자의 채무의 담보로 제공한 물상보증인들이 채무를 변제한 뒤 다른 물상보증인 소유부동산에 설정된 근저당권설정등기에 관하여 대위의 부기등기를 하여 두지 아니하고 있는 동안에 제3취득자가 위 부동산을 취득하였다면, 대위변제한 물상보증인들은 제3취득자에 대하여 채권자를 대위할 수 없다.\n",
      "===== rank 39 =====\n",
      "채권이 이중으로 양도된 경우의 양수인 상호간의 우열은 통지 또는 승낙에 붙여진 확정일자의 선후에 의하여 결정할 것이 아니라, 채권양도에 대한 채무자의 인식, 즉 확정일자 있는 양도통지가 채무자에게 도달한 일시 또는 확정일자 있는 승낙의 일시의 선후에 의하여 결정하여야 할 것이고, 이러한 법리는 채권양수인과 동일 채권에 대하여 가압류명령을 집행한 자 사이의 우열을 결정하는 경우에 있어서도 마찬가지이므로, 확정일자 있는 채권양도 통지와 가압류결정 정본의 제3채무자(채권양도의 경우는 채무자)에 대한 도달의 선후에 의하여 그 우열을 결정하여야 한다.\n",
      "===== rank 40 =====\n",
      "동일 부동산에 관하여 등기명의인을 달리하여 중복된 소유권보존등기가 경료된 경우에는, 먼저 이루어진 소유권보존등기가 원인무효가 되지 아니하는 한, 뒤에 된 소유권보존등기는 실체권리관계에 부합되는지의 여부를 따질 필요도 없이 무효이다.\n",
      "===== rank 41 =====\n",
      "돈사에서 대량으로 사육되는 돼지를 집합물에 대한 양도담보의 목적물로 삼은 경우, 위 양도담보권의 효력은 양도담보설정자로부터 이를 양수한 양수인이 당초 양수한 돈사 내에 있던 돼지들 및 통상적인 양돈방식에 따라 그 돼지들을 사육·관리하면서 돼지를 출하하여 얻은 수익으로 새로 구입하거나 그 돼지와 교환한 돼지 또는 그 돼지로부터 출산시켜 얻은 새끼돼지에 한하여 미치는 것이지 양수인이 별도의 자금을 투입하여 반입한 돼지에까지는 미치지 않는다고 한 사례.\n",
      "===== rank 42 =====\n",
      "부동산에 대한 점유취득시효가 완성되었다고 하더라도 이를 등기하지 아니하고 있는 사이에 그 부동산에 관하여 제3자에게 소유권이전등기가 마쳐지면 점유자는 그 제3자에게 대항할 수 없다.\n",
      "===== rank 43 =====\n",
      "물상보증인이 담보부동산을 제3취득자에게 매도하고 제3취득자가 담보부동산에 설정된 근저당권의 피담보채무의 이행을 인수한 경우, 그 이행인수는 매매당사자 사이의 내부적인 계약에 불과하여 이로써 물상보증인의 책임이 소멸하지 않는 것이고, 따라서 담보부동산에 대한 담보권이 실행된 경우에도 제3취득자가 아닌 원래의 물상보증인이 채무자에 대한 구상권을 취득한다.\n",
      "===== rank 44 =====\n",
      "공동저당의 목적인 물상보증인 소유의 부동산에 후순위 저당권이 설정되어 있는 경우, 물상보증인 소유의 부동산에 대하여 먼저 경매가 이루어져 그 경매대금의 교부에 의하여 선순위 공동저당권자가 변제를 받은 때에는 물상보증인은 채무자에 대하여 구상권을 취득함과 동시에, 민법 제481조, 제482조의 규정에 의한 변제자대위에 의하여 채무자 소유의 부동산에 대한 선순위 저당권을 대위취득하고, 그 물상보증인 소유의 부동산의 후순위 저당권자는 위 선순위 저당권에 대하여 물상대위를 할 수 있다. 그러므로 그 선순위 저당권설정등기는 말소등기가 경료될 것이 아니라 위 물상보증인 앞으로 대위에 의한 저당권이전의 부기등기가 경료되어야 할 성질의 것이며, 따라서 아직 경매되지 아니한 공동저당물의 소유자로서는 위 선순위 저당권자에 대한 피담보채무가 소멸하였다는 사정만으로는 그 말소등기를 청구할 수 없다고 보아야 한다. 그리고 위 후순위 저당권자는 자신의 채권을 보전하기 위하여 물상보증인을 대위하여 선순위 저당권자에게 그 부기등기를 할 것을 청구할 수 있다.\n",
      "===== rank 45 =====\n",
      "부동산의 매수인이 목적물을 인도받아 계속 점유하는 경우에는 매도인에 대한 소유권이전등기청구권은 소멸시효가 진행되지 않고, 이러한 법리는 3자간 등기명의신탁에 의한 등기가 유효기간의 경과로 무효로 된 경우에도 마찬가지로 적용된다. 따라서 그 경우 목적 부동산을 인도받아 점유하고 있는 명의신탁자의 매도인에 대한 소유권이전등기청구권 역시 소멸시효가 진행되지 않는다.\n",
      "===== rank 46 =====\n",
      "동일한 부동산에 관하여 등기명의인을 달리하여 중복된 소유권보존등기가 마쳐진 경우 먼저 이루어진 소유권보존등기가 원인무효로 되지 않는 한 뒤에 된 소유권보존등기는 그것이 실체관계에 부합하는지를 가릴 것 없이 1부동산 1등기용지주의의 법리에 비추어 무효이므로, 선행 보존등기로부터 소유권이전등기를 한 소유자의 상속인이 후행 보존등기나 그에 기하여 순차로 이루어진 소유권이전등기 등의 후속등기가 모두 무효라는 이유로 등기의 말소를 구하는 소는, 후행 보존등기로부터 이루어진 소유권이전등기가 참칭상속인에 의한 것이어서 무효이고 따라서 후속등기도 무효임을 이유로 하는 것이 아니라 후행 보존등기 자체가 무효임을 이유로 하는 것이므로 상속회복청구의 소에 해당하지 않는다.\n",
      "===== rank 47 =====\n",
      "가등기담보등에관한법률은 차용물의 반환에 관하여 다른 재산권을 이전할 것을 예약한 경우에 적용되므로 금전소비대차나 준소비대차에 기한 차용금반환채무 이외의 채무를 담보하기 위하여 경료된 가등기나 양도담보에는 위 법이 적용되지 아니하나, 금전소비대차나 준소비대차에 기한 차용금반환채무와 그 외의 원인으로 발생한 채무를 동시에 담보할 목적으로 경료된 가등기나 소유권이전등기라도 그 후 후자의 채무가 변제 기타의 사유로 소멸하고 금전소비대차나 준소비대차에 기한 차용금반환채무의 전부 또는 일부만이 남게 된 경우에는 그 가등기담보나 양도담보에 가등기담보등에관한법률이 적용된다.\n",
      "===== rank 48 =====\n",
      "부동산이 전전 양도된 경우에 중간생략등기의 합의가 없는 한 그 최종 양수인은 최초 양도인에 대하여 직접 자기 명의로의 소유권이전등기를 청구할 수 없고, 부동산의 양도계약이 순차 이루어져 최종 양수인이 중간생략등기의 합의를 이유로 최초 양도인에게 직접 그 소유권이전등기 청구권을 행사하기 위하여는 관계 당사자 전원의 의사합치, 즉 중간생략등기에 대한 최초 양도인과 중간자의 동의가 있는 외에 최초 양도인과 최종 양수인 사이에도 그 중간등기 생략의 합의가 있었음이 요구되므로, 비록 최종 양수인이 중간자로부터 소유권이전등기 청구권을 양도받았다고 하더라도 최초 양도인이 그 양도에 대하여 동의하지 않고 있다면 최종 양수인은 최초 양도인에 대하여 채권양도를 원인으로 하여 소유권이전등기 절차 이행을 청구할 수 없다.\n",
      "===== rank 49 =====\n",
      "소유권이전등기의무의 이행불능으로 인한 전보배상청구권의 소멸시효는 이전등기의무가 이행불능 상태에 돌아간 때로부터 진행된다고 할 것이고, 매매의 목적이 된 부동산에 관하여 제3자의 처분금지가처분의 등기가 기입되었다 할지라도, 이는 단지 그에 저촉되는 범위 내에서 가처분채권자에게 대항할 수 없는 효과가 있다는 것일 뿐 그것에 의하여 곧바로 부동산 위에 어떤 지배관계가 생겨서 채무자가 그 부동산을 임의로 타에 처분하는 행위 자체를 금지하는 것은 아니라 하겠으므로, 그 가처분등기로 인하여 바로 계약이 이행불능으로 되는 것은 아니고, 제3자 앞으로 소유권이전등기가 경료되는 등 사회거래의 통념에 비추어 계약의 이행이 극히 곤란한 사정이 발생하는 때에 비로소 이행불능으로 된다.\n",
      "===== rank 50 =====\n",
      "동산의 소유자가 이를 이중으로 양도하고 각 점유개정의 방법으로 양도인 이 점유를 계속하는 경우 양수인들 사이에 있어서는 먼저 현실의 인도를 받아 점유를 해온 자가 소유권을 취득한다고 볼 것이나, 양수인 중 한 사람이 처분금지가처분집행을 하고 그 동산의 인도를 명하는 판결을 받은 경우에는 다른 양수인이 위 가처분집행후에 양도인으로부터 그 동산을 현실로 인도받아 점유를 승계하였더라도 그 동산을 선의취득한 것이 아닌 한 이와 같은 양수인은 가처분채권자가 본안소송에서의 승소판결에 따른 채무명의에 터잡아 강제집행을 하는 경우 이를 수인하여야 하는 지위에 있으므로 가처분채권자와의 사이에서는 그 동산의 소유권을 취득하였다고 주장할 수 없다.\n"
     ]
    }
   ],
   "source": [
    "print(\"query\") \n",
    "print(test_questions[0])\n",
    "\n",
    "\n",
    "print(\"candidates\")\n",
    "candidate_texts = all_data[\"candidates\"].values \n",
    "\n",
    "for i in range(len(top50_answers[0])): \n",
    "    print(f\"===== rank {i+1} =====\")\n",
    "    print(candidate_texts[top50_answers[0][i]]) \n"
   ]
  },
  {
   "cell_type": "code",
   "execution_count": null,
   "id": "31152594-f8d1-4c0e-a85d-381423b372f9",
   "metadata": {},
   "outputs": [],
   "source": []
  },
  {
   "cell_type": "code",
   "execution_count": null,
   "id": "5debf7e8-aca5-46ce-bf1a-44d0299937f1",
   "metadata": {},
   "outputs": [],
   "source": []
  },
  {
   "cell_type": "code",
   "execution_count": null,
   "id": "29e0322a-0d92-4c5f-8895-f6671321fe55",
   "metadata": {},
   "outputs": [],
   "source": []
  },
  {
   "cell_type": "code",
   "execution_count": null,
   "id": "6d96100f-629b-4255-80e8-b9ee9a6325a1",
   "metadata": {},
   "outputs": [],
   "source": []
  }
 ],
 "metadata": {
  "kernelspec": {
   "display_name": "Python 3 (ipykernel)",
   "language": "python",
   "name": "python3"
  },
  "language_info": {
   "codemirror_mode": {
    "name": "ipython",
    "version": 3
   },
   "file_extension": ".py",
   "mimetype": "text/x-python",
   "name": "python",
   "nbconvert_exporter": "python",
   "pygments_lexer": "ipython3",
   "version": "3.8.12"
  }
 },
 "nbformat": 4,
 "nbformat_minor": 5
}
